{
 "cells": [
  {
   "cell_type": "markdown",
   "metadata": {},
   "source": [
    "# Data Visualization (2017/18)\n",
    "\n",
    "## Solutions for Assignment 3 - Visualizing multivariate data \n",
    "\n",
    "Presented by Group 60: \n",
    "- Udit Dokania\n",
    "- Swapna Patil\n",
    "\n",
    "Date: 04.12.2018"
   ]
  },
  {
   "cell_type": "markdown",
   "metadata": {},
   "source": [
    "## Setup"
   ]
  },
  {
   "cell_type": "code",
   "execution_count": 730,
   "metadata": {},
   "outputs": [
    {
     "data": {
      "text/html": [
       "\n",
       "    <div class=\"bk-root\">\n",
       "        <a href=\"https://bokeh.pydata.org\" target=\"_blank\" class=\"bk-logo bk-logo-small bk-logo-notebook\"></a>\n",
       "        <span id=\"8eb4c46c-b054-48e8-a396-37922bd0d21d\">Loading BokehJS ...</span>\n",
       "    </div>"
      ]
     },
     "metadata": {},
     "output_type": "display_data"
    },
    {
     "data": {
      "application/javascript": [
       "\n",
       "(function(root) {\n",
       "  function now() {\n",
       "    return new Date();\n",
       "  }\n",
       "\n",
       "  var force = true;\n",
       "\n",
       "  if (typeof (root._bokeh_onload_callbacks) === \"undefined\" || force === true) {\n",
       "    root._bokeh_onload_callbacks = [];\n",
       "    root._bokeh_is_loading = undefined;\n",
       "  }\n",
       "\n",
       "  var JS_MIME_TYPE = 'application/javascript';\n",
       "  var HTML_MIME_TYPE = 'text/html';\n",
       "  var EXEC_MIME_TYPE = 'application/vnd.bokehjs_exec.v0+json';\n",
       "  var CLASS_NAME = 'output_bokeh rendered_html';\n",
       "\n",
       "  /**\n",
       "   * Render data to the DOM node\n",
       "   */\n",
       "  function render(props, node) {\n",
       "    var script = document.createElement(\"script\");\n",
       "    node.appendChild(script);\n",
       "  }\n",
       "\n",
       "  /**\n",
       "   * Handle when an output is cleared or removed\n",
       "   */\n",
       "  function handleClearOutput(event, handle) {\n",
       "    var cell = handle.cell;\n",
       "\n",
       "    var id = cell.output_area._bokeh_element_id;\n",
       "    var server_id = cell.output_area._bokeh_server_id;\n",
       "    // Clean up Bokeh references\n",
       "    if (id != null && id in Bokeh.index) {\n",
       "      Bokeh.index[id].model.document.clear();\n",
       "      delete Bokeh.index[id];\n",
       "    }\n",
       "\n",
       "    if (server_id !== undefined) {\n",
       "      // Clean up Bokeh references\n",
       "      var cmd = \"from bokeh.io.state import curstate; print(curstate().uuid_to_server['\" + server_id + \"'].get_sessions()[0].document.roots[0]._id)\";\n",
       "      cell.notebook.kernel.execute(cmd, {\n",
       "        iopub: {\n",
       "          output: function(msg) {\n",
       "            var id = msg.content.text.trim();\n",
       "            if (id in Bokeh.index) {\n",
       "              Bokeh.index[id].model.document.clear();\n",
       "              delete Bokeh.index[id];\n",
       "            }\n",
       "          }\n",
       "        }\n",
       "      });\n",
       "      // Destroy server and session\n",
       "      var cmd = \"import bokeh.io.notebook as ion; ion.destroy_server('\" + server_id + \"')\";\n",
       "      cell.notebook.kernel.execute(cmd);\n",
       "    }\n",
       "  }\n",
       "\n",
       "  /**\n",
       "   * Handle when a new output is added\n",
       "   */\n",
       "  function handleAddOutput(event, handle) {\n",
       "    var output_area = handle.output_area;\n",
       "    var output = handle.output;\n",
       "\n",
       "    // limit handleAddOutput to display_data with EXEC_MIME_TYPE content only\n",
       "    if ((output.output_type != \"display_data\") || (!output.data.hasOwnProperty(EXEC_MIME_TYPE))) {\n",
       "      return\n",
       "    }\n",
       "\n",
       "    var toinsert = output_area.element.find(\".\" + CLASS_NAME.split(' ')[0]);\n",
       "\n",
       "    if (output.metadata[EXEC_MIME_TYPE][\"id\"] !== undefined) {\n",
       "      toinsert[toinsert.length - 1].firstChild.textContent = output.data[JS_MIME_TYPE];\n",
       "      // store reference to embed id on output_area\n",
       "      output_area._bokeh_element_id = output.metadata[EXEC_MIME_TYPE][\"id\"];\n",
       "    }\n",
       "    if (output.metadata[EXEC_MIME_TYPE][\"server_id\"] !== undefined) {\n",
       "      var bk_div = document.createElement(\"div\");\n",
       "      bk_div.innerHTML = output.data[HTML_MIME_TYPE];\n",
       "      var script_attrs = bk_div.children[0].attributes;\n",
       "      for (var i = 0; i < script_attrs.length; i++) {\n",
       "        toinsert[toinsert.length - 1].firstChild.setAttribute(script_attrs[i].name, script_attrs[i].value);\n",
       "      }\n",
       "      // store reference to server id on output_area\n",
       "      output_area._bokeh_server_id = output.metadata[EXEC_MIME_TYPE][\"server_id\"];\n",
       "    }\n",
       "  }\n",
       "\n",
       "  function register_renderer(events, OutputArea) {\n",
       "\n",
       "    function append_mime(data, metadata, element) {\n",
       "      // create a DOM node to render to\n",
       "      var toinsert = this.create_output_subarea(\n",
       "        metadata,\n",
       "        CLASS_NAME,\n",
       "        EXEC_MIME_TYPE\n",
       "      );\n",
       "      this.keyboard_manager.register_events(toinsert);\n",
       "      // Render to node\n",
       "      var props = {data: data, metadata: metadata[EXEC_MIME_TYPE]};\n",
       "      render(props, toinsert[toinsert.length - 1]);\n",
       "      element.append(toinsert);\n",
       "      return toinsert\n",
       "    }\n",
       "\n",
       "    /* Handle when an output is cleared or removed */\n",
       "    events.on('clear_output.CodeCell', handleClearOutput);\n",
       "    events.on('delete.Cell', handleClearOutput);\n",
       "\n",
       "    /* Handle when a new output is added */\n",
       "    events.on('output_added.OutputArea', handleAddOutput);\n",
       "\n",
       "    /**\n",
       "     * Register the mime type and append_mime function with output_area\n",
       "     */\n",
       "    OutputArea.prototype.register_mime_type(EXEC_MIME_TYPE, append_mime, {\n",
       "      /* Is output safe? */\n",
       "      safe: true,\n",
       "      /* Index of renderer in `output_area.display_order` */\n",
       "      index: 0\n",
       "    });\n",
       "  }\n",
       "\n",
       "  // register the mime type if in Jupyter Notebook environment and previously unregistered\n",
       "  if (root.Jupyter !== undefined) {\n",
       "    var events = require('base/js/events');\n",
       "    var OutputArea = require('notebook/js/outputarea').OutputArea;\n",
       "\n",
       "    if (OutputArea.prototype.mime_types().indexOf(EXEC_MIME_TYPE) == -1) {\n",
       "      register_renderer(events, OutputArea);\n",
       "    }\n",
       "  }\n",
       "\n",
       "  \n",
       "  if (typeof (root._bokeh_timeout) === \"undefined\" || force === true) {\n",
       "    root._bokeh_timeout = Date.now() + 5000;\n",
       "    root._bokeh_failed_load = false;\n",
       "  }\n",
       "\n",
       "  var NB_LOAD_WARNING = {'data': {'text/html':\n",
       "     \"<div style='background-color: #fdd'>\\n\"+\n",
       "     \"<p>\\n\"+\n",
       "     \"BokehJS does not appear to have successfully loaded. If loading BokehJS from CDN, this \\n\"+\n",
       "     \"may be due to a slow or bad network connection. Possible fixes:\\n\"+\n",
       "     \"</p>\\n\"+\n",
       "     \"<ul>\\n\"+\n",
       "     \"<li>re-rerun `output_notebook()` to attempt to load from CDN again, or</li>\\n\"+\n",
       "     \"<li>use INLINE resources instead, as so:</li>\\n\"+\n",
       "     \"</ul>\\n\"+\n",
       "     \"<code>\\n\"+\n",
       "     \"from bokeh.resources import INLINE\\n\"+\n",
       "     \"output_notebook(resources=INLINE)\\n\"+\n",
       "     \"</code>\\n\"+\n",
       "     \"</div>\"}};\n",
       "\n",
       "  function display_loaded() {\n",
       "    var el = document.getElementById(\"8eb4c46c-b054-48e8-a396-37922bd0d21d\");\n",
       "    if (el != null) {\n",
       "      el.textContent = \"BokehJS is loading...\";\n",
       "    }\n",
       "    if (root.Bokeh !== undefined) {\n",
       "      if (el != null) {\n",
       "        el.textContent = \"BokehJS \" + root.Bokeh.version + \" successfully loaded.\";\n",
       "      }\n",
       "    } else if (Date.now() < root._bokeh_timeout) {\n",
       "      setTimeout(display_loaded, 100)\n",
       "    }\n",
       "  }\n",
       "\n",
       "\n",
       "  function run_callbacks() {\n",
       "    try {\n",
       "      root._bokeh_onload_callbacks.forEach(function(callback) { callback() });\n",
       "    }\n",
       "    finally {\n",
       "      delete root._bokeh_onload_callbacks\n",
       "    }\n",
       "    console.info(\"Bokeh: all callbacks have finished\");\n",
       "  }\n",
       "\n",
       "  function load_libs(js_urls, callback) {\n",
       "    root._bokeh_onload_callbacks.push(callback);\n",
       "    if (root._bokeh_is_loading > 0) {\n",
       "      console.log(\"Bokeh: BokehJS is being loaded, scheduling callback at\", now());\n",
       "      return null;\n",
       "    }\n",
       "    if (js_urls == null || js_urls.length === 0) {\n",
       "      run_callbacks();\n",
       "      return null;\n",
       "    }\n",
       "    console.log(\"Bokeh: BokehJS not loaded, scheduling load and callback at\", now());\n",
       "    root._bokeh_is_loading = js_urls.length;\n",
       "    for (var i = 0; i < js_urls.length; i++) {\n",
       "      var url = js_urls[i];\n",
       "      var s = document.createElement('script');\n",
       "      s.src = url;\n",
       "      s.async = false;\n",
       "      s.onreadystatechange = s.onload = function() {\n",
       "        root._bokeh_is_loading--;\n",
       "        if (root._bokeh_is_loading === 0) {\n",
       "          console.log(\"Bokeh: all BokehJS libraries loaded\");\n",
       "          run_callbacks()\n",
       "        }\n",
       "      };\n",
       "      s.onerror = function() {\n",
       "        console.warn(\"failed to load library \" + url);\n",
       "      };\n",
       "      console.log(\"Bokeh: injecting script tag for BokehJS library: \", url);\n",
       "      document.getElementsByTagName(\"head\")[0].appendChild(s);\n",
       "    }\n",
       "  };var element = document.getElementById(\"8eb4c46c-b054-48e8-a396-37922bd0d21d\");\n",
       "  if (element == null) {\n",
       "    console.log(\"Bokeh: ERROR: autoload.js configured with elementid '8eb4c46c-b054-48e8-a396-37922bd0d21d' but no matching script tag was found. \")\n",
       "    return false;\n",
       "  }\n",
       "\n",
       "  var js_urls = [\"https://cdn.pydata.org/bokeh/release/bokeh-0.13.0.min.js\", \"https://cdn.pydata.org/bokeh/release/bokeh-widgets-0.13.0.min.js\", \"https://cdn.pydata.org/bokeh/release/bokeh-tables-0.13.0.min.js\", \"https://cdn.pydata.org/bokeh/release/bokeh-gl-0.13.0.min.js\"];\n",
       "\n",
       "  var inline_js = [\n",
       "    function(Bokeh) {\n",
       "      Bokeh.set_log_level(\"info\");\n",
       "    },\n",
       "    \n",
       "    function(Bokeh) {\n",
       "      \n",
       "    },\n",
       "    function(Bokeh) {\n",
       "      console.log(\"Bokeh: injecting CSS: https://cdn.pydata.org/bokeh/release/bokeh-0.13.0.min.css\");\n",
       "      Bokeh.embed.inject_css(\"https://cdn.pydata.org/bokeh/release/bokeh-0.13.0.min.css\");\n",
       "      console.log(\"Bokeh: injecting CSS: https://cdn.pydata.org/bokeh/release/bokeh-widgets-0.13.0.min.css\");\n",
       "      Bokeh.embed.inject_css(\"https://cdn.pydata.org/bokeh/release/bokeh-widgets-0.13.0.min.css\");\n",
       "      console.log(\"Bokeh: injecting CSS: https://cdn.pydata.org/bokeh/release/bokeh-tables-0.13.0.min.css\");\n",
       "      Bokeh.embed.inject_css(\"https://cdn.pydata.org/bokeh/release/bokeh-tables-0.13.0.min.css\");\n",
       "    }\n",
       "  ];\n",
       "\n",
       "  function run_inline_js() {\n",
       "    \n",
       "    if ((root.Bokeh !== undefined) || (force === true)) {\n",
       "      for (var i = 0; i < inline_js.length; i++) {\n",
       "        inline_js[i].call(root, root.Bokeh);\n",
       "      }if (force === true) {\n",
       "        display_loaded();\n",
       "      }} else if (Date.now() < root._bokeh_timeout) {\n",
       "      setTimeout(run_inline_js, 100);\n",
       "    } else if (!root._bokeh_failed_load) {\n",
       "      console.log(\"Bokeh: BokehJS failed to load within specified timeout.\");\n",
       "      root._bokeh_failed_load = true;\n",
       "    } else if (force !== true) {\n",
       "      var cell = $(document.getElementById(\"8eb4c46c-b054-48e8-a396-37922bd0d21d\")).parents('.cell').data().cell;\n",
       "      cell.output_area.append_execute_result(NB_LOAD_WARNING)\n",
       "    }\n",
       "\n",
       "  }\n",
       "\n",
       "  if (root._bokeh_is_loading === 0) {\n",
       "    console.log(\"Bokeh: BokehJS loaded, going straight to plotting\");\n",
       "    run_inline_js();\n",
       "  } else {\n",
       "    load_libs(js_urls, function() {\n",
       "      console.log(\"Bokeh: BokehJS plotting callback run at\", now());\n",
       "      run_inline_js();\n",
       "    });\n",
       "  }\n",
       "}(window));"
      ],
      "application/vnd.bokehjs_load.v0+json": "\n(function(root) {\n  function now() {\n    return new Date();\n  }\n\n  var force = true;\n\n  if (typeof (root._bokeh_onload_callbacks) === \"undefined\" || force === true) {\n    root._bokeh_onload_callbacks = [];\n    root._bokeh_is_loading = undefined;\n  }\n\n  \n\n  \n  if (typeof (root._bokeh_timeout) === \"undefined\" || force === true) {\n    root._bokeh_timeout = Date.now() + 5000;\n    root._bokeh_failed_load = false;\n  }\n\n  var NB_LOAD_WARNING = {'data': {'text/html':\n     \"<div style='background-color: #fdd'>\\n\"+\n     \"<p>\\n\"+\n     \"BokehJS does not appear to have successfully loaded. If loading BokehJS from CDN, this \\n\"+\n     \"may be due to a slow or bad network connection. Possible fixes:\\n\"+\n     \"</p>\\n\"+\n     \"<ul>\\n\"+\n     \"<li>re-rerun `output_notebook()` to attempt to load from CDN again, or</li>\\n\"+\n     \"<li>use INLINE resources instead, as so:</li>\\n\"+\n     \"</ul>\\n\"+\n     \"<code>\\n\"+\n     \"from bokeh.resources import INLINE\\n\"+\n     \"output_notebook(resources=INLINE)\\n\"+\n     \"</code>\\n\"+\n     \"</div>\"}};\n\n  function display_loaded() {\n    var el = document.getElementById(\"8eb4c46c-b054-48e8-a396-37922bd0d21d\");\n    if (el != null) {\n      el.textContent = \"BokehJS is loading...\";\n    }\n    if (root.Bokeh !== undefined) {\n      if (el != null) {\n        el.textContent = \"BokehJS \" + root.Bokeh.version + \" successfully loaded.\";\n      }\n    } else if (Date.now() < root._bokeh_timeout) {\n      setTimeout(display_loaded, 100)\n    }\n  }\n\n\n  function run_callbacks() {\n    try {\n      root._bokeh_onload_callbacks.forEach(function(callback) { callback() });\n    }\n    finally {\n      delete root._bokeh_onload_callbacks\n    }\n    console.info(\"Bokeh: all callbacks have finished\");\n  }\n\n  function load_libs(js_urls, callback) {\n    root._bokeh_onload_callbacks.push(callback);\n    if (root._bokeh_is_loading > 0) {\n      console.log(\"Bokeh: BokehJS is being loaded, scheduling callback at\", now());\n      return null;\n    }\n    if (js_urls == null || js_urls.length === 0) {\n      run_callbacks();\n      return null;\n    }\n    console.log(\"Bokeh: BokehJS not loaded, scheduling load and callback at\", now());\n    root._bokeh_is_loading = js_urls.length;\n    for (var i = 0; i < js_urls.length; i++) {\n      var url = js_urls[i];\n      var s = document.createElement('script');\n      s.src = url;\n      s.async = false;\n      s.onreadystatechange = s.onload = function() {\n        root._bokeh_is_loading--;\n        if (root._bokeh_is_loading === 0) {\n          console.log(\"Bokeh: all BokehJS libraries loaded\");\n          run_callbacks()\n        }\n      };\n      s.onerror = function() {\n        console.warn(\"failed to load library \" + url);\n      };\n      console.log(\"Bokeh: injecting script tag for BokehJS library: \", url);\n      document.getElementsByTagName(\"head\")[0].appendChild(s);\n    }\n  };var element = document.getElementById(\"8eb4c46c-b054-48e8-a396-37922bd0d21d\");\n  if (element == null) {\n    console.log(\"Bokeh: ERROR: autoload.js configured with elementid '8eb4c46c-b054-48e8-a396-37922bd0d21d' but no matching script tag was found. \")\n    return false;\n  }\n\n  var js_urls = [\"https://cdn.pydata.org/bokeh/release/bokeh-0.13.0.min.js\", \"https://cdn.pydata.org/bokeh/release/bokeh-widgets-0.13.0.min.js\", \"https://cdn.pydata.org/bokeh/release/bokeh-tables-0.13.0.min.js\", \"https://cdn.pydata.org/bokeh/release/bokeh-gl-0.13.0.min.js\"];\n\n  var inline_js = [\n    function(Bokeh) {\n      Bokeh.set_log_level(\"info\");\n    },\n    \n    function(Bokeh) {\n      \n    },\n    function(Bokeh) {\n      console.log(\"Bokeh: injecting CSS: https://cdn.pydata.org/bokeh/release/bokeh-0.13.0.min.css\");\n      Bokeh.embed.inject_css(\"https://cdn.pydata.org/bokeh/release/bokeh-0.13.0.min.css\");\n      console.log(\"Bokeh: injecting CSS: https://cdn.pydata.org/bokeh/release/bokeh-widgets-0.13.0.min.css\");\n      Bokeh.embed.inject_css(\"https://cdn.pydata.org/bokeh/release/bokeh-widgets-0.13.0.min.css\");\n      console.log(\"Bokeh: injecting CSS: https://cdn.pydata.org/bokeh/release/bokeh-tables-0.13.0.min.css\");\n      Bokeh.embed.inject_css(\"https://cdn.pydata.org/bokeh/release/bokeh-tables-0.13.0.min.css\");\n    }\n  ];\n\n  function run_inline_js() {\n    \n    if ((root.Bokeh !== undefined) || (force === true)) {\n      for (var i = 0; i < inline_js.length; i++) {\n        inline_js[i].call(root, root.Bokeh);\n      }if (force === true) {\n        display_loaded();\n      }} else if (Date.now() < root._bokeh_timeout) {\n      setTimeout(run_inline_js, 100);\n    } else if (!root._bokeh_failed_load) {\n      console.log(\"Bokeh: BokehJS failed to load within specified timeout.\");\n      root._bokeh_failed_load = true;\n    } else if (force !== true) {\n      var cell = $(document.getElementById(\"8eb4c46c-b054-48e8-a396-37922bd0d21d\")).parents('.cell').data().cell;\n      cell.output_area.append_execute_result(NB_LOAD_WARNING)\n    }\n\n  }\n\n  if (root._bokeh_is_loading === 0) {\n    console.log(\"Bokeh: BokehJS loaded, going straight to plotting\");\n    run_inline_js();\n  } else {\n    load_libs(js_urls, function() {\n      console.log(\"Bokeh: BokehJS plotting callback run at\", now());\n      run_inline_js();\n    });\n  }\n}(window));"
     },
     "metadata": {},
     "output_type": "display_data"
    }
   ],
   "source": [
    "import pandas as pd\n",
    "import numpy as np\n",
    "\n",
    "# import bokeh \n",
    "from bokeh.plotting import figure, show, Figure\n",
    "from bokeh.models import ColumnDataSource, Label\n",
    "from bokeh.models.glyphs import Text\n",
    "from bokeh.palettes import Spectral3\n",
    "from bokeh.layouts import row, column, gridplot\n",
    "\n",
    "# tell bokeh to show the figures in the notebook\n",
    "from bokeh.io import output_notebook\n",
    "output_notebook()"
   ]
  },
  {
   "cell_type": "markdown",
   "metadata": {},
   "source": [
    "Load data stored in bokeh:"
   ]
  },
  {
   "cell_type": "code",
   "execution_count": 731,
   "metadata": {},
   "outputs": [
    {
     "data": {
      "text/html": [
       "<div>\n",
       "<style scoped>\n",
       "    .dataframe tbody tr th:only-of-type {\n",
       "        vertical-align: middle;\n",
       "    }\n",
       "\n",
       "    .dataframe tbody tr th {\n",
       "        vertical-align: top;\n",
       "    }\n",
       "\n",
       "    .dataframe thead th {\n",
       "        text-align: right;\n",
       "    }\n",
       "</style>\n",
       "<table border=\"1\" class=\"dataframe\">\n",
       "  <thead>\n",
       "    <tr style=\"text-align: right;\">\n",
       "      <th></th>\n",
       "      <th>sepal_length</th>\n",
       "      <th>sepal_width</th>\n",
       "      <th>petal_length</th>\n",
       "      <th>petal_width</th>\n",
       "      <th>species</th>\n",
       "    </tr>\n",
       "  </thead>\n",
       "  <tbody>\n",
       "    <tr>\n",
       "      <th>0</th>\n",
       "      <td>5.1</td>\n",
       "      <td>3.5</td>\n",
       "      <td>1.4</td>\n",
       "      <td>0.2</td>\n",
       "      <td>setosa</td>\n",
       "    </tr>\n",
       "    <tr>\n",
       "      <th>1</th>\n",
       "      <td>4.9</td>\n",
       "      <td>3.0</td>\n",
       "      <td>1.4</td>\n",
       "      <td>0.2</td>\n",
       "      <td>setosa</td>\n",
       "    </tr>\n",
       "    <tr>\n",
       "      <th>2</th>\n",
       "      <td>4.7</td>\n",
       "      <td>3.2</td>\n",
       "      <td>1.3</td>\n",
       "      <td>0.2</td>\n",
       "      <td>setosa</td>\n",
       "    </tr>\n",
       "    <tr>\n",
       "      <th>3</th>\n",
       "      <td>4.6</td>\n",
       "      <td>3.1</td>\n",
       "      <td>1.5</td>\n",
       "      <td>0.2</td>\n",
       "      <td>setosa</td>\n",
       "    </tr>\n",
       "    <tr>\n",
       "      <th>4</th>\n",
       "      <td>5.0</td>\n",
       "      <td>3.6</td>\n",
       "      <td>1.4</td>\n",
       "      <td>0.2</td>\n",
       "      <td>setosa</td>\n",
       "    </tr>\n",
       "  </tbody>\n",
       "</table>\n",
       "</div>"
      ],
      "text/plain": [
       "   sepal_length  sepal_width  petal_length  petal_width species\n",
       "0           5.1          3.5           1.4          0.2  setosa\n",
       "1           4.9          3.0           1.4          0.2  setosa\n",
       "2           4.7          3.2           1.3          0.2  setosa\n",
       "3           4.6          3.1           1.5          0.2  setosa\n",
       "4           5.0          3.6           1.4          0.2  setosa"
      ]
     },
     "execution_count": 731,
     "metadata": {},
     "output_type": "execute_result"
    }
   ],
   "source": [
    "from bokeh.sampledata.autompg import autompg\n",
    "from bokeh.sampledata.iris import flowers\n",
    "flowers.head()"
   ]
  },
  {
   "cell_type": "markdown",
   "metadata": {},
   "source": [
    "## Helpful functions"
   ]
  },
  {
   "cell_type": "markdown",
   "metadata": {},
   "source": [
    "Group a dataframe according to a variable (species) and compute some statistics for a second variable (petal_width)."
   ]
  },
  {
   "cell_type": "code",
   "execution_count": 732,
   "metadata": {},
   "outputs": [
    {
     "data": {
      "text/html": [
       "<div>\n",
       "<style scoped>\n",
       "    .dataframe tbody tr th:only-of-type {\n",
       "        vertical-align: middle;\n",
       "    }\n",
       "\n",
       "    .dataframe tbody tr th {\n",
       "        vertical-align: top;\n",
       "    }\n",
       "\n",
       "    .dataframe thead th {\n",
       "        text-align: right;\n",
       "    }\n",
       "</style>\n",
       "<table border=\"1\" class=\"dataframe\">\n",
       "  <thead>\n",
       "    <tr style=\"text-align: right;\">\n",
       "      <th></th>\n",
       "      <th>count</th>\n",
       "      <th>mean</th>\n",
       "      <th>std</th>\n",
       "      <th>min</th>\n",
       "      <th>25%</th>\n",
       "      <th>50%</th>\n",
       "      <th>75%</th>\n",
       "      <th>max</th>\n",
       "    </tr>\n",
       "    <tr>\n",
       "      <th>species</th>\n",
       "      <th></th>\n",
       "      <th></th>\n",
       "      <th></th>\n",
       "      <th></th>\n",
       "      <th></th>\n",
       "      <th></th>\n",
       "      <th></th>\n",
       "      <th></th>\n",
       "    </tr>\n",
       "  </thead>\n",
       "  <tbody>\n",
       "    <tr>\n",
       "      <th>setosa</th>\n",
       "      <td>50.0</td>\n",
       "      <td>0.246</td>\n",
       "      <td>0.105386</td>\n",
       "      <td>0.1</td>\n",
       "      <td>0.2</td>\n",
       "      <td>0.2</td>\n",
       "      <td>0.3</td>\n",
       "      <td>0.6</td>\n",
       "    </tr>\n",
       "    <tr>\n",
       "      <th>versicolor</th>\n",
       "      <td>50.0</td>\n",
       "      <td>1.326</td>\n",
       "      <td>0.197753</td>\n",
       "      <td>1.0</td>\n",
       "      <td>1.2</td>\n",
       "      <td>1.3</td>\n",
       "      <td>1.5</td>\n",
       "      <td>1.8</td>\n",
       "    </tr>\n",
       "    <tr>\n",
       "      <th>virginica</th>\n",
       "      <td>50.0</td>\n",
       "      <td>2.026</td>\n",
       "      <td>0.274650</td>\n",
       "      <td>1.4</td>\n",
       "      <td>1.8</td>\n",
       "      <td>2.0</td>\n",
       "      <td>2.3</td>\n",
       "      <td>2.5</td>\n",
       "    </tr>\n",
       "  </tbody>\n",
       "</table>\n",
       "</div>"
      ],
      "text/plain": [
       "            count   mean       std  min  25%  50%  75%  max\n",
       "species                                                    \n",
       "setosa       50.0  0.246  0.105386  0.1  0.2  0.2  0.3  0.6\n",
       "versicolor   50.0  1.326  0.197753  1.0  1.2  1.3  1.5  1.8\n",
       "virginica    50.0  2.026  0.274650  1.4  1.8  2.0  2.3  2.5"
      ]
     },
     "execution_count": 732,
     "metadata": {},
     "output_type": "execute_result"
    }
   ],
   "source": [
    "flowers.groupby(['species']).petal_width.describe()"
   ]
  },
  {
   "cell_type": "markdown",
   "metadata": {},
   "source": [
    "Find unique values and count them in categorical variable."
   ]
  },
  {
   "cell_type": "code",
   "execution_count": 733,
   "metadata": {},
   "outputs": [
    {
     "data": {
      "text/plain": [
       "array(['setosa', 'versicolor', 'virginica'], dtype=object)"
      ]
     },
     "execution_count": 733,
     "metadata": {},
     "output_type": "execute_result"
    }
   ],
   "source": [
    "flowers.species.unique()"
   ]
  },
  {
   "cell_type": "code",
   "execution_count": 734,
   "metadata": {},
   "outputs": [
    {
     "data": {
      "text/plain": [
       "setosa        50\n",
       "versicolor    50\n",
       "virginica     50\n",
       "Name: species, dtype: int64"
      ]
     },
     "execution_count": 734,
     "metadata": {},
     "output_type": "execute_result"
    }
   ],
   "source": [
    "flowers.species.value_counts()"
   ]
  },
  {
   "cell_type": "markdown",
   "metadata": {},
   "source": [
    "Use numpy to compute a histogram for quantitative data. See the docu for further information and how to work with the output."
   ]
  },
  {
   "cell_type": "code",
   "execution_count": 735,
   "metadata": {},
   "outputs": [
    {
     "data": {
      "text/plain": [
       "(array([41,  8,  1,  7,  8, 33,  6, 23,  9, 14], dtype=int64),\n",
       " array([0.1 , 0.34, 0.58, 0.82, 1.06, 1.3 , 1.54, 1.78, 2.02, 2.26, 2.5 ]))"
      ]
     },
     "execution_count": 735,
     "metadata": {},
     "output_type": "execute_result"
    }
   ],
   "source": [
    "np.histogram(flowers.petal_width)"
   ]
  },
  {
   "cell_type": "markdown",
   "metadata": {},
   "source": [
    "## Exercise 1 a): Customize a scatterplot chart\n",
    "\n",
    "The following code skeleton renders a scatterplot. Customize the chart to your liking. Think for example of many data points. \n",
    "\n",
    "This is meant to be a very quick exercise to demonstrate the concept for the following two charts.\n",
    "\n",
    "Requirements:\n",
    "- **Parameters**: The function accepts (at least) the following parameters:\n",
    "    - **source**: a pandas DataFrameObject or bokeh ColumnDataSource that holds the data\n",
    "    - **x**: variable (name as string) to be represented on the x-axis\n",
    "    - **y**: variable (name as string) to be represented on the y-axis\n",
    "- **Calling the scatterplot**: The function is a class method of Figure and can be called as follows\n",
    "```python\n",
    "p = figure()\n",
    "p.scatter( data, x, y )\n",
    "```\n",
    "This is already setup in the code skeleton below.\n",
    "\n",
    "**<font color=\"deeppink\">Update code</font>**"
   ]
  },
  {
   "cell_type": "code",
   "execution_count": 736,
   "metadata": {},
   "outputs": [],
   "source": [
    "def scatter( self, source, x, y, **kwargs ):\n",
    "    # access the figure using the self variable\n",
    "    self.circle( source=source, x=x, y=y, **kwargs)\n",
    "    \n",
    "    label = Label( x=50, y=50, x_units='screen', y_units='screen',\n",
    "                  render_mode='css' )\n",
    "    self.add_layout(label)\n",
    "\n",
    "# add the function as class method to Figure    \n",
    "Figure.scatter = scatter"
   ]
  },
  {
   "cell_type": "markdown",
   "metadata": {},
   "source": [
    "**<font color=\"deeppink\">Check</font>** that your code is working:"
   ]
  },
  {
   "cell_type": "code",
   "execution_count": 737,
   "metadata": {},
   "outputs": [
    {
     "data": {
      "text/html": [
       "\n",
       "\n",
       "\n",
       "\n",
       "\n",
       "\n",
       "  <div class=\"bk-root\" id=\"05bfe73a-f01f-4882-b3fb-8c01e99e2d2f\"></div>\n"
      ]
     },
     "metadata": {},
     "output_type": "display_data"
    },
    {
     "data": {
      "application/javascript": [
       "(function(root) {\n",
       "  function embed_document(root) {\n",
       "    \n",
       "  var docs_json = {\"8e314f6c-fb1e-46ea-a369-27a93c7e7434\":{\"roots\":{\"references\":[{\"attributes\":{},\"id\":\"a6a69dfb-5ac8-4365-a848-054290077780\",\"type\":\"BasicTicker\"},{\"attributes\":{\"plot\":{\"id\":\"a86d4f2b-47a1-45d3-8654-396290a309b0\",\"subtype\":\"Figure\",\"type\":\"Plot\"},\"render_mode\":\"css\",\"x\":50,\"x_units\":\"screen\",\"y\":50,\"y_units\":\"screen\"},\"id\":\"4b8038d5-7130-4fbf-8c3e-e13e7a50d642\",\"type\":\"Label\"},{\"attributes\":{},\"id\":\"4d350cfb-26ed-40de-a7f7-be1f13ea824b\",\"type\":\"Selection\"},{\"attributes\":{},\"id\":\"acd269eb-ba86-4f03-9117-f1f7f8495826\",\"type\":\"PanTool\"},{\"attributes\":{\"fill_alpha\":{\"value\":0.1},\"fill_color\":{\"value\":\"#1f77b4\"},\"line_alpha\":{\"value\":0.1},\"line_color\":{\"value\":\"#1f77b4\"},\"x\":{\"field\":\"petal_width\"},\"y\":{\"field\":\"petal_length\"}},\"id\":\"17c024eb-7bc0-4623-b633-1c7cb77ecf1f\",\"type\":\"Circle\"},{\"attributes\":{\"plot\":{\"id\":\"a86d4f2b-47a1-45d3-8654-396290a309b0\",\"subtype\":\"Figure\",\"type\":\"Plot\"},\"ticker\":{\"id\":\"68a4dcfb-da6b-4533-9fea-6ac3c65de64a\",\"type\":\"BasicTicker\"}},\"id\":\"aa1a2126-6fad-46e7-ab45-32a6df2ee9ba\",\"type\":\"Grid\"},{\"attributes\":{},\"id\":\"805af563-8f29-408a-9e70-ccbd1eb821ad\",\"type\":\"SaveTool\"},{\"attributes\":{\"active_drag\":\"auto\",\"active_inspect\":\"auto\",\"active_multi\":null,\"active_scroll\":\"auto\",\"active_tap\":\"auto\",\"tools\":[{\"id\":\"acd269eb-ba86-4f03-9117-f1f7f8495826\",\"type\":\"PanTool\"},{\"id\":\"ea33e61c-1bf4-4c86-ab53-a30a8b460f15\",\"type\":\"WheelZoomTool\"},{\"id\":\"03f0434c-5bc1-42b6-80a1-07082d1a8690\",\"type\":\"BoxZoomTool\"},{\"id\":\"805af563-8f29-408a-9e70-ccbd1eb821ad\",\"type\":\"SaveTool\"},{\"id\":\"4f356d8c-0e69-4f09-848b-6be9f83defb5\",\"type\":\"ResetTool\"},{\"id\":\"8c83ce39-663a-4506-84ae-b950fc0186a1\",\"type\":\"HelpTool\"}]},\"id\":\"91571230-8d5f-49fd-acb7-749113217d2c\",\"type\":\"Toolbar\"},{\"attributes\":{},\"id\":\"ea33e61c-1bf4-4c86-ab53-a30a8b460f15\",\"type\":\"WheelZoomTool\"},{\"attributes\":{\"plot\":null,\"text\":\"\"},\"id\":\"14787315-bebb-488c-ad76-e656a33a7cab\",\"type\":\"Title\"},{\"attributes\":{\"callback\":null},\"id\":\"2d74c36a-7e4d-4f88-828c-6e22d2a9cb39\",\"type\":\"DataRange1d\"},{\"attributes\":{},\"id\":\"7afd33a7-5fe3-4842-a73e-ee512a5d4f1e\",\"type\":\"BasicTickFormatter\"},{\"attributes\":{},\"id\":\"4436c1d3-e032-4ad6-8f85-f9be64997ce5\",\"type\":\"LinearScale\"},{\"attributes\":{},\"id\":\"4f356d8c-0e69-4f09-848b-6be9f83defb5\",\"type\":\"ResetTool\"},{\"attributes\":{\"bottom_units\":\"screen\",\"fill_alpha\":{\"value\":0.5},\"fill_color\":{\"value\":\"lightgrey\"},\"left_units\":\"screen\",\"level\":\"overlay\",\"line_alpha\":{\"value\":1.0},\"line_color\":{\"value\":\"black\"},\"line_dash\":[4,4],\"line_width\":{\"value\":2},\"plot\":null,\"render_mode\":\"css\",\"right_units\":\"screen\",\"top_units\":\"screen\"},\"id\":\"92867662-5d99-4bfe-9878-2f5bc0293387\",\"type\":\"BoxAnnotation\"},{\"attributes\":{\"data_source\":{\"id\":\"2d538afa-911c-4cb9-8aaa-63af7745b955\",\"type\":\"ColumnDataSource\"},\"glyph\":{\"id\":\"7ce5b58e-31cc-49f2-a9ab-8c326f687f15\",\"type\":\"Circle\"},\"hover_glyph\":null,\"muted_glyph\":null,\"nonselection_glyph\":{\"id\":\"17c024eb-7bc0-4623-b633-1c7cb77ecf1f\",\"type\":\"Circle\"},\"selection_glyph\":null,\"view\":{\"id\":\"8ab9dd6c-619f-45f4-a2e7-f3c9a068a34f\",\"type\":\"CDSView\"}},\"id\":\"efdc2838-6692-4040-b989-9c56d1ac559c\",\"type\":\"GlyphRenderer\"},{\"attributes\":{\"formatter\":{\"id\":\"7afd33a7-5fe3-4842-a73e-ee512a5d4f1e\",\"type\":\"BasicTickFormatter\"},\"plot\":{\"id\":\"a86d4f2b-47a1-45d3-8654-396290a309b0\",\"subtype\":\"Figure\",\"type\":\"Plot\"},\"ticker\":{\"id\":\"68a4dcfb-da6b-4533-9fea-6ac3c65de64a\",\"type\":\"BasicTicker\"}},\"id\":\"b049d398-1d41-4d6c-8227-84789e8dcb3b\",\"type\":\"LinearAxis\"},{\"attributes\":{\"callback\":null,\"data\":{\"index\":[0,1,2,3,4,5,6,7,8,9,10,11,12,13,14,15,16,17,18,19,20,21,22,23,24,25,26,27,28,29,30,31,32,33,34,35,36,37,38,39,40,41,42,43,44,45,46,47,48,49,50,51,52,53,54,55,56,57,58,59,60,61,62,63,64,65,66,67,68,69,70,71,72,73,74,75,76,77,78,79,80,81,82,83,84,85,86,87,88,89,90,91,92,93,94,95,96,97,98,99,100,101,102,103,104,105,106,107,108,109,110,111,112,113,114,115,116,117,118,119,120,121,122,123,124,125,126,127,128,129,130,131,132,133,134,135,136,137,138,139,140,141,142,143,144,145,146,147,148,149],\"petal_length\":{\"__ndarray__\":\"ZmZmZmZm9j9mZmZmZmb2P83MzMzMzPQ/AAAAAAAA+D9mZmZmZmb2PzMzMzMzM/s/ZmZmZmZm9j8AAAAAAAD4P2ZmZmZmZvY/AAAAAAAA+D8AAAAAAAD4P5qZmZmZmfk/ZmZmZmZm9j+amZmZmZnxPzMzMzMzM/M/AAAAAAAA+D/NzMzMzMz0P2ZmZmZmZvY/MzMzMzMz+z8AAAAAAAD4PzMzMzMzM/s/AAAAAAAA+D8AAAAAAADwPzMzMzMzM/s/ZmZmZmZm/j+amZmZmZn5P5qZmZmZmfk/AAAAAAAA+D9mZmZmZmb2P5qZmZmZmfk/mpmZmZmZ+T8AAAAAAAD4PwAAAAAAAPg/ZmZmZmZm9j8AAAAAAAD4PzMzMzMzM/M/zczMzMzM9D9mZmZmZmb2P83MzMzMzPQ/AAAAAAAA+D/NzMzMzMz0P83MzMzMzPQ/zczMzMzM9D+amZmZmZn5P2ZmZmZmZv4/ZmZmZmZm9j+amZmZmZn5P2ZmZmZmZvY/AAAAAAAA+D9mZmZmZmb2P83MzMzMzBJAAAAAAAAAEkCamZmZmZkTQAAAAAAAABBAZmZmZmZmEkAAAAAAAAASQM3MzMzMzBJAZmZmZmZmCkBmZmZmZmYSQDMzMzMzMw9AAAAAAAAADEDNzMzMzMwQQAAAAAAAABBAzczMzMzMEkDNzMzMzMwMQJqZmZmZmRFAAAAAAAAAEkBmZmZmZmYQQAAAAAAAABJAMzMzMzMzD0AzMzMzMzMTQAAAAAAAABBAmpmZmZmZE0DNzMzMzMwSQDMzMzMzMxFAmpmZmZmZEUAzMzMzMzMTQAAAAAAAABRAAAAAAAAAEkAAAAAAAAAMQGZmZmZmZg5AmpmZmZmZDUAzMzMzMzMPQGZmZmZmZhRAAAAAAAAAEkAAAAAAAAASQM3MzMzMzBJAmpmZmZmZEUBmZmZmZmYQQAAAAAAAABBAmpmZmZmZEUBmZmZmZmYSQAAAAAAAABBAZmZmZmZmCkDNzMzMzMwQQM3MzMzMzBBAzczMzMzMEEAzMzMzMzMRQAAAAAAAAAhAZmZmZmZmEEAAAAAAAAAYQGZmZmZmZhRAmpmZmZmZF0BmZmZmZmYWQDMzMzMzMxdAZmZmZmZmGkAAAAAAAAASQDMzMzMzMxlAMzMzMzMzF0BmZmZmZmYYQGZmZmZmZhRAMzMzMzMzFUAAAAAAAAAWQAAAAAAAABRAZmZmZmZmFEAzMzMzMzMVQAAAAAAAABZAzczMzMzMGkCamZmZmZkbQAAAAAAAABRAzczMzMzMFkCamZmZmZkTQM3MzMzMzBpAmpmZmZmZE0DNzMzMzMwWQAAAAAAAABhAMzMzMzMzE0CamZmZmZkTQGZmZmZmZhZAMzMzMzMzF0BmZmZmZmYYQJqZmZmZmRlAZmZmZmZmFkBmZmZmZmYUQGZmZmZmZhZAZmZmZmZmGEBmZmZmZmYWQAAAAAAAABZAMzMzMzMzE0CamZmZmZkVQGZmZmZmZhZAZmZmZmZmFEBmZmZmZmYUQJqZmZmZmRdAzczMzMzMFkDNzMzMzMwUQAAAAAAAABRAzczMzMzMFECamZmZmZkVQGZmZmZmZhRA\",\"dtype\":\"float64\",\"shape\":[150]},\"petal_width\":{\"__ndarray__\":\"mpmZmZmZyT+amZmZmZnJP5qZmZmZmck/mpmZmZmZyT+amZmZmZnJP5qZmZmZmdk/MzMzMzMz0z+amZmZmZnJP5qZmZmZmck/mpmZmZmZuT+amZmZmZnJP5qZmZmZmck/mpmZmZmZuT+amZmZmZm5P5qZmZmZmck/mpmZmZmZ2T+amZmZmZnZPzMzMzMzM9M/MzMzMzMz0z8zMzMzMzPTP5qZmZmZmck/mpmZmZmZ2T+amZmZmZnJPwAAAAAAAOA/mpmZmZmZyT+amZmZmZnJP5qZmZmZmdk/mpmZmZmZyT+amZmZmZnJP5qZmZmZmck/mpmZmZmZyT+amZmZmZnZP5qZmZmZmbk/mpmZmZmZyT+amZmZmZnJP5qZmZmZmck/mpmZmZmZyT+amZmZmZm5P5qZmZmZmck/mpmZmZmZyT8zMzMzMzPTPzMzMzMzM9M/mpmZmZmZyT8zMzMzMzPjP5qZmZmZmdk/MzMzMzMz0z+amZmZmZnJP5qZmZmZmck/mpmZmZmZyT+amZmZmZnJP2ZmZmZmZvY/AAAAAAAA+D8AAAAAAAD4P83MzMzMzPQ/AAAAAAAA+D/NzMzMzMz0P5qZmZmZmfk/AAAAAAAA8D/NzMzMzMz0P2ZmZmZmZvY/AAAAAAAA8D8AAAAAAAD4PwAAAAAAAPA/ZmZmZmZm9j/NzMzMzMz0P2ZmZmZmZvY/AAAAAAAA+D8AAAAAAADwPwAAAAAAAPg/mpmZmZmZ8T/NzMzMzMz8P83MzMzMzPQ/AAAAAAAA+D8zMzMzMzPzP83MzMzMzPQ/ZmZmZmZm9j9mZmZmZmb2PzMzMzMzM/s/AAAAAAAA+D8AAAAAAADwP5qZmZmZmfE/AAAAAAAA8D8zMzMzMzPzP5qZmZmZmfk/AAAAAAAA+D+amZmZmZn5PwAAAAAAAPg/zczMzMzM9D/NzMzMzMz0P83MzMzMzPQ/MzMzMzMz8z9mZmZmZmb2PzMzMzMzM/M/AAAAAAAA8D/NzMzMzMz0PzMzMzMzM/M/zczMzMzM9D/NzMzMzMz0P5qZmZmZmfE/zczMzMzM9D8AAAAAAAAEQGZmZmZmZv4/zczMzMzMAEDNzMzMzMz8P5qZmZmZmQFAzczMzMzMAEAzMzMzMzP7P83MzMzMzPw/zczMzMzM/D8AAAAAAAAEQAAAAAAAAABAZmZmZmZm/j/NzMzMzMwAQAAAAAAAAABAMzMzMzMzA0BmZmZmZmYCQM3MzMzMzPw/mpmZmZmZAUBmZmZmZmYCQAAAAAAAAPg/ZmZmZmZmAkAAAAAAAAAAQAAAAAAAAABAzczMzMzM/D/NzMzMzMwAQM3MzMzMzPw/zczMzMzM/D/NzMzMzMz8P83MzMzMzABAmpmZmZmZ+T9mZmZmZmb+PwAAAAAAAABAmpmZmZmZAUAAAAAAAAD4P2ZmZmZmZvY/ZmZmZmZmAkAzMzMzMzMDQM3MzMzMzPw/zczMzMzM/D/NzMzMzMwAQDMzMzMzMwNAZmZmZmZmAkBmZmZmZmb+P2ZmZmZmZgJAAAAAAAAABEBmZmZmZmYCQGZmZmZmZv4/AAAAAAAAAEBmZmZmZmYCQM3MzMzMzPw/\",\"dtype\":\"float64\",\"shape\":[150]},\"sepal_length\":{\"__ndarray__\":\"ZmZmZmZmFECamZmZmZkTQM3MzMzMzBJAZmZmZmZmEkAAAAAAAAAUQJqZmZmZmRVAZmZmZmZmEkAAAAAAAAAUQJqZmZmZmRFAmpmZmZmZE0CamZmZmZkVQDMzMzMzMxNAMzMzMzMzE0AzMzMzMzMRQDMzMzMzMxdAzczMzMzMFkCamZmZmZkVQGZmZmZmZhRAzczMzMzMFkBmZmZmZmYUQJqZmZmZmRVAZmZmZmZmFEBmZmZmZmYSQGZmZmZmZhRAMzMzMzMzE0AAAAAAAAAUQAAAAAAAABRAzczMzMzMFEDNzMzMzMwUQM3MzMzMzBJAMzMzMzMzE0CamZmZmZkVQM3MzMzMzBRAAAAAAAAAFkCamZmZmZkTQAAAAAAAABRAAAAAAAAAFkCamZmZmZkTQJqZmZmZmRFAZmZmZmZmFEAAAAAAAAAUQAAAAAAAABJAmpmZmZmZEUAAAAAAAAAUQGZmZmZmZhRAMzMzMzMzE0BmZmZmZmYUQGZmZmZmZhJAMzMzMzMzFUAAAAAAAAAUQAAAAAAAABxAmpmZmZmZGUCamZmZmZkbQAAAAAAAABZAAAAAAAAAGkDNzMzMzMwWQDMzMzMzMxlAmpmZmZmZE0BmZmZmZmYaQM3MzMzMzBRAAAAAAAAAFECamZmZmZkXQAAAAAAAABhAZmZmZmZmGEBmZmZmZmYWQM3MzMzMzBpAZmZmZmZmFkAzMzMzMzMXQM3MzMzMzBhAZmZmZmZmFkCamZmZmZkXQGZmZmZmZhhAMzMzMzMzGUBmZmZmZmYYQJqZmZmZmRlAZmZmZmZmGkAzMzMzMzMbQM3MzMzMzBpAAAAAAAAAGEDNzMzMzMwWQAAAAAAAABZAAAAAAAAAFkAzMzMzMzMXQAAAAAAAABhAmpmZmZmZFUAAAAAAAAAYQM3MzMzMzBpAMzMzMzMzGUBmZmZmZmYWQAAAAAAAABZAAAAAAAAAFkBmZmZmZmYYQDMzMzMzMxdAAAAAAAAAFEBmZmZmZmYWQM3MzMzMzBZAzczMzMzMFkDNzMzMzMwYQGZmZmZmZhRAzczMzMzMFkAzMzMzMzMZQDMzMzMzMxdAZmZmZmZmHEAzMzMzMzMZQAAAAAAAABpAZmZmZmZmHkCamZmZmZkTQDMzMzMzMx1AzczMzMzMGkDNzMzMzMwcQAAAAAAAABpAmpmZmZmZGUAzMzMzMzMbQM3MzMzMzBZAMzMzMzMzF0CamZmZmZkZQAAAAAAAABpAzczMzMzMHkDNzMzMzMweQAAAAAAAABhAmpmZmZmZG0BmZmZmZmYWQM3MzMzMzB5AMzMzMzMzGUDNzMzMzMwaQM3MzMzMzBxAzczMzMzMGEBmZmZmZmYYQJqZmZmZmRlAzczMzMzMHECamZmZmZkdQJqZmZmZmR9AmpmZmZmZGUAzMzMzMzMZQGZmZmZmZhhAzczMzMzMHkAzMzMzMzMZQJqZmZmZmRlAAAAAAAAAGECamZmZmZkbQM3MzMzMzBpAmpmZmZmZG0AzMzMzMzMXQDMzMzMzMxtAzczMzMzMGkDNzMzMzMwaQDMzMzMzMxlAAAAAAAAAGkDNzMzMzMwYQJqZmZmZmRdA\",\"dtype\":\"float64\",\"shape\":[150]},\"sepal_width\":{\"__ndarray__\":\"AAAAAAAADEAAAAAAAAAIQJqZmZmZmQlAzczMzMzMCEDNzMzMzMwMQDMzMzMzMw9AMzMzMzMzC0AzMzMzMzMLQDMzMzMzMwdAzczMzMzMCECamZmZmZkNQDMzMzMzMwtAAAAAAAAACEAAAAAAAAAIQAAAAAAAABBAmpmZmZmZEUAzMzMzMzMPQAAAAAAAAAxAZmZmZmZmDkBmZmZmZmYOQDMzMzMzMwtAmpmZmZmZDUDNzMzMzMwMQGZmZmZmZgpAMzMzMzMzC0AAAAAAAAAIQDMzMzMzMwtAAAAAAAAADEAzMzMzMzMLQJqZmZmZmQlAzczMzMzMCEAzMzMzMzMLQGZmZmZmZhBAzczMzMzMEEDNzMzMzMwIQJqZmZmZmQlAAAAAAAAADEDNzMzMzMwMQAAAAAAAAAhAMzMzMzMzC0AAAAAAAAAMQGZmZmZmZgJAmpmZmZmZCUAAAAAAAAAMQGZmZmZmZg5AAAAAAAAACEBmZmZmZmYOQJqZmZmZmQlAmpmZmZmZDUBmZmZmZmYKQJqZmZmZmQlAmpmZmZmZCUDNzMzMzMwIQGZmZmZmZgJAZmZmZmZmBkBmZmZmZmYGQGZmZmZmZgpAMzMzMzMzA0AzMzMzMzMHQJqZmZmZmQVAAAAAAAAAAEAAAAAAAAAIQJqZmZmZmQFAMzMzMzMzB0AzMzMzMzMHQM3MzMzMzAhAAAAAAAAACECamZmZmZkFQJqZmZmZmQFAAAAAAAAABECamZmZmZkJQGZmZmZmZgZAAAAAAAAABEBmZmZmZmYGQDMzMzMzMwdAAAAAAAAACEBmZmZmZmYGQAAAAAAAAAhAMzMzMzMzB0DNzMzMzMwEQDMzMzMzMwNAMzMzMzMzA0CamZmZmZkFQJqZmZmZmQVAAAAAAAAACEAzMzMzMzMLQM3MzMzMzAhAZmZmZmZmAkAAAAAAAAAIQAAAAAAAAARAzczMzMzMBEAAAAAAAAAIQM3MzMzMzARAZmZmZmZmAkCamZmZmZkFQAAAAAAAAAhAMzMzMzMzB0AzMzMzMzMHQAAAAAAAAARAZmZmZmZmBkBmZmZmZmYKQJqZmZmZmQVAAAAAAAAACEAzMzMzMzMHQAAAAAAAAAhAAAAAAAAACEAAAAAAAAAEQDMzMzMzMwdAAAAAAAAABEDNzMzMzMwMQJqZmZmZmQlAmpmZmZmZBUAAAAAAAAAIQAAAAAAAAARAZmZmZmZmBkCamZmZmZkJQAAAAAAAAAhAZmZmZmZmDkDNzMzMzMwEQJqZmZmZmQFAmpmZmZmZCUBmZmZmZmYGQGZmZmZmZgZAmpmZmZmZBUBmZmZmZmYKQJqZmZmZmQlAZmZmZmZmBkAAAAAAAAAIQGZmZmZmZgZAAAAAAAAACEBmZmZmZmYGQGZmZmZmZg5AZmZmZmZmBkBmZmZmZmYGQM3MzMzMzARAAAAAAAAACEAzMzMzMzMLQM3MzMzMzAhAAAAAAAAACEDNzMzMzMwIQM3MzMzMzAhAzczMzMzMCECamZmZmZkFQJqZmZmZmQlAZmZmZmZmCkAAAAAAAAAIQAAAAAAAAARAAAAAAAAACEAzMzMzMzMLQAAAAAAAAAhA\",\"dtype\":\"float64\",\"shape\":[150]},\"species\":[\"setosa\",\"setosa\",\"setosa\",\"setosa\",\"setosa\",\"setosa\",\"setosa\",\"setosa\",\"setosa\",\"setosa\",\"setosa\",\"setosa\",\"setosa\",\"setosa\",\"setosa\",\"setosa\",\"setosa\",\"setosa\",\"setosa\",\"setosa\",\"setosa\",\"setosa\",\"setosa\",\"setosa\",\"setosa\",\"setosa\",\"setosa\",\"setosa\",\"setosa\",\"setosa\",\"setosa\",\"setosa\",\"setosa\",\"setosa\",\"setosa\",\"setosa\",\"setosa\",\"setosa\",\"setosa\",\"setosa\",\"setosa\",\"setosa\",\"setosa\",\"setosa\",\"setosa\",\"setosa\",\"setosa\",\"setosa\",\"setosa\",\"setosa\",\"versicolor\",\"versicolor\",\"versicolor\",\"versicolor\",\"versicolor\",\"versicolor\",\"versicolor\",\"versicolor\",\"versicolor\",\"versicolor\",\"versicolor\",\"versicolor\",\"versicolor\",\"versicolor\",\"versicolor\",\"versicolor\",\"versicolor\",\"versicolor\",\"versicolor\",\"versicolor\",\"versicolor\",\"versicolor\",\"versicolor\",\"versicolor\",\"versicolor\",\"versicolor\",\"versicolor\",\"versicolor\",\"versicolor\",\"versicolor\",\"versicolor\",\"versicolor\",\"versicolor\",\"versicolor\",\"versicolor\",\"versicolor\",\"versicolor\",\"versicolor\",\"versicolor\",\"versicolor\",\"versicolor\",\"versicolor\",\"versicolor\",\"versicolor\",\"versicolor\",\"versicolor\",\"versicolor\",\"versicolor\",\"versicolor\",\"versicolor\",\"virginica\",\"virginica\",\"virginica\",\"virginica\",\"virginica\",\"virginica\",\"virginica\",\"virginica\",\"virginica\",\"virginica\",\"virginica\",\"virginica\",\"virginica\",\"virginica\",\"virginica\",\"virginica\",\"virginica\",\"virginica\",\"virginica\",\"virginica\",\"virginica\",\"virginica\",\"virginica\",\"virginica\",\"virginica\",\"virginica\",\"virginica\",\"virginica\",\"virginica\",\"virginica\",\"virginica\",\"virginica\",\"virginica\",\"virginica\",\"virginica\",\"virginica\",\"virginica\",\"virginica\",\"virginica\",\"virginica\",\"virginica\",\"virginica\",\"virginica\",\"virginica\",\"virginica\",\"virginica\",\"virginica\",\"virginica\",\"virginica\",\"virginica\"]},\"selected\":{\"id\":\"4d350cfb-26ed-40de-a7f7-be1f13ea824b\",\"type\":\"Selection\"},\"selection_policy\":{\"id\":\"107d5c8a-3908-49f1-a643-2b2d64b55142\",\"type\":\"UnionRenderers\"}},\"id\":\"2d538afa-911c-4cb9-8aaa-63af7745b955\",\"type\":\"ColumnDataSource\"},{\"attributes\":{},\"id\":\"68a4dcfb-da6b-4533-9fea-6ac3c65de64a\",\"type\":\"BasicTicker\"},{\"attributes\":{\"below\":[{\"id\":\"b049d398-1d41-4d6c-8227-84789e8dcb3b\",\"type\":\"LinearAxis\"}],\"left\":[{\"id\":\"049531a2-c2ce-4f61-9aef-378502788060\",\"type\":\"LinearAxis\"}],\"plot_height\":300,\"plot_width\":300,\"renderers\":[{\"id\":\"b049d398-1d41-4d6c-8227-84789e8dcb3b\",\"type\":\"LinearAxis\"},{\"id\":\"aa1a2126-6fad-46e7-ab45-32a6df2ee9ba\",\"type\":\"Grid\"},{\"id\":\"049531a2-c2ce-4f61-9aef-378502788060\",\"type\":\"LinearAxis\"},{\"id\":\"3e24b9f3-33ed-41ea-b275-89355911fdaa\",\"type\":\"Grid\"},{\"id\":\"92867662-5d99-4bfe-9878-2f5bc0293387\",\"type\":\"BoxAnnotation\"},{\"id\":\"efdc2838-6692-4040-b989-9c56d1ac559c\",\"type\":\"GlyphRenderer\"},{\"id\":\"4b8038d5-7130-4fbf-8c3e-e13e7a50d642\",\"type\":\"Label\"}],\"title\":{\"id\":\"14787315-bebb-488c-ad76-e656a33a7cab\",\"type\":\"Title\"},\"toolbar\":{\"id\":\"91571230-8d5f-49fd-acb7-749113217d2c\",\"type\":\"Toolbar\"},\"x_range\":{\"id\":\"2d74c36a-7e4d-4f88-828c-6e22d2a9cb39\",\"type\":\"DataRange1d\"},\"x_scale\":{\"id\":\"4436c1d3-e032-4ad6-8f85-f9be64997ce5\",\"type\":\"LinearScale\"},\"y_range\":{\"id\":\"ed52e746-2f5d-405c-a69c-491fa0afaef8\",\"type\":\"DataRange1d\"},\"y_scale\":{\"id\":\"5d77c48e-c39c-4974-882d-ca2e28256ccb\",\"type\":\"LinearScale\"}},\"id\":\"a86d4f2b-47a1-45d3-8654-396290a309b0\",\"subtype\":\"Figure\",\"type\":\"Plot\"},{\"attributes\":{\"dimension\":1,\"plot\":{\"id\":\"a86d4f2b-47a1-45d3-8654-396290a309b0\",\"subtype\":\"Figure\",\"type\":\"Plot\"},\"ticker\":{\"id\":\"a6a69dfb-5ac8-4365-a848-054290077780\",\"type\":\"BasicTicker\"}},\"id\":\"3e24b9f3-33ed-41ea-b275-89355911fdaa\",\"type\":\"Grid\"},{\"attributes\":{},\"id\":\"5d77c48e-c39c-4974-882d-ca2e28256ccb\",\"type\":\"LinearScale\"},{\"attributes\":{},\"id\":\"107d5c8a-3908-49f1-a643-2b2d64b55142\",\"type\":\"UnionRenderers\"},{\"attributes\":{},\"id\":\"8c83ce39-663a-4506-84ae-b950fc0186a1\",\"type\":\"HelpTool\"},{\"attributes\":{\"callback\":null},\"id\":\"ed52e746-2f5d-405c-a69c-491fa0afaef8\",\"type\":\"DataRange1d\"},{\"attributes\":{\"formatter\":{\"id\":\"e7a6f55e-4bb4-4597-9ff4-2e21d17ff340\",\"type\":\"BasicTickFormatter\"},\"plot\":{\"id\":\"a86d4f2b-47a1-45d3-8654-396290a309b0\",\"subtype\":\"Figure\",\"type\":\"Plot\"},\"ticker\":{\"id\":\"a6a69dfb-5ac8-4365-a848-054290077780\",\"type\":\"BasicTicker\"}},\"id\":\"049531a2-c2ce-4f61-9aef-378502788060\",\"type\":\"LinearAxis\"},{\"attributes\":{},\"id\":\"e7a6f55e-4bb4-4597-9ff4-2e21d17ff340\",\"type\":\"BasicTickFormatter\"},{\"attributes\":{\"fill_color\":{\"value\":\"#1f77b4\"},\"line_color\":{\"value\":\"#1f77b4\"},\"x\":{\"field\":\"petal_width\"},\"y\":{\"field\":\"petal_length\"}},\"id\":\"7ce5b58e-31cc-49f2-a9ab-8c326f687f15\",\"type\":\"Circle\"},{\"attributes\":{\"source\":{\"id\":\"2d538afa-911c-4cb9-8aaa-63af7745b955\",\"type\":\"ColumnDataSource\"}},\"id\":\"8ab9dd6c-619f-45f4-a2e7-f3c9a068a34f\",\"type\":\"CDSView\"},{\"attributes\":{\"overlay\":{\"id\":\"92867662-5d99-4bfe-9878-2f5bc0293387\",\"type\":\"BoxAnnotation\"}},\"id\":\"03f0434c-5bc1-42b6-80a1-07082d1a8690\",\"type\":\"BoxZoomTool\"}],\"root_ids\":[\"a86d4f2b-47a1-45d3-8654-396290a309b0\"]},\"title\":\"Bokeh Application\",\"version\":\"0.13.0\"}};\n",
       "  var render_items = [{\"docid\":\"8e314f6c-fb1e-46ea-a369-27a93c7e7434\",\"roots\":{\"a86d4f2b-47a1-45d3-8654-396290a309b0\":\"05bfe73a-f01f-4882-b3fb-8c01e99e2d2f\"}}];\n",
       "  root.Bokeh.embed.embed_items_notebook(docs_json, render_items);\n",
       "\n",
       "  }\n",
       "  if (root.Bokeh !== undefined) {\n",
       "    embed_document(root);\n",
       "  } else {\n",
       "    var attempts = 0;\n",
       "    var timer = setInterval(function(root) {\n",
       "      if (root.Bokeh !== undefined) {\n",
       "        embed_document(root);\n",
       "        clearInterval(timer);\n",
       "      }\n",
       "      attempts++;\n",
       "      if (attempts > 100) {\n",
       "        console.log(\"Bokeh: ERROR: Unable to run BokehJS code because BokehJS library is missing\")\n",
       "        clearInterval(timer);\n",
       "      }\n",
       "    }, 10, root)\n",
       "  }\n",
       "})(window);"
      ],
      "application/vnd.bokehjs_exec.v0+json": ""
     },
     "metadata": {
      "application/vnd.bokehjs_exec.v0+json": {
       "id": "a86d4f2b-47a1-45d3-8654-396290a309b0"
      }
     },
     "output_type": "display_data"
    }
   ],
   "source": [
    "p = figure( plot_width=300, plot_height=300 )\n",
    "p.scatter( source=flowers, x='petal_width', y='petal_length')\n",
    "show(p)"
   ]
  },
  {
   "cell_type": "markdown",
   "metadata": {},
   "source": [
    "**<font color=\"deeppink\">Test cases</font>**: Give three scenarios that need testing (bullet points, no implementation required). Think of scenarios where your code may fail.\n",
    "- Test case 1\n",
    "- Test case 2\n",
    "- Test case 3"
   ]
  },
  {
   "cell_type": "markdown",
   "metadata": {},
   "source": [
    "## Exercise 1 b): Implement a boxplot chart\n",
    "\n",
    "Requirements:\n",
    "- **Parameters**: The function accepts (at least) the following parameters:\n",
    "    - **source**: a pandas DataFrameObject that holds the data\n",
    "    - **x**: variable (name as string) to be represented on the x-axis\n",
    "    - **y**: variable (name as string) to be represented on the y-axis\n",
    "- **Orientation**: Provide boxplots with horizontal and vertical orientation (call them hboxplot and vboxplot).\n",
    "- **Calling the boxplot**: The function is a class method of Figure and can be called as follows\n",
    "```python\n",
    "p = figure()\n",
    "p.vboxplot( data, x, y )\n",
    "```\n",
    "This is already setup in the code skeleton below.\n",
    "\n",
    "Hints:\n",
    "- A Bokeh sample implementation can be found here: [Boxplot](https://bokeh.pydata.org/en/latest/docs/gallery/boxplot.html)\n",
    "- Adapt this implementation to work on the target variable only. See code below to get started.\n",
    "\n",
    "**<font color=\"deeppink\">Implement</font>**"
   ]
  },
  {
   "cell_type": "code",
   "execution_count": 738,
   "metadata": {},
   "outputs": [],
   "source": [
    "#     return group[(group > upper.loc[cat]) | (group < lower.loc[cat])]\n",
    "def vboxplot( self, source, x, y, **kwargs ):\n",
    "    if not isinstance(source, pd.DataFrame ):\n",
    "        raise TypeError(\"source has to be a pandas DataFrame.\")\n",
    "\n",
    "    groups = source.groupby([x])[y]\n",
    "    \n",
    "    q1 = groups.quantile(q=0.25)\n",
    "    q2 = groups.quantile(q=0.5)\n",
    "    q3 = groups.quantile(q=0.75)\n",
    "    iqr = q3 - q1\n",
    "    upper = q3 + 1.5*iqr\n",
    "    lower = q1 - 1.5*iqr\n",
    "    \n",
    "#     print(upper.loc['setosa'])\n",
    "    \n",
    "    cat = q1.keys();\n",
    "    def outliers(group):\n",
    "        cat = group.name\n",
    "        return group[(group > upper.loc[cat]) | (group < lower.loc[cat])]\n",
    "    out = groups.apply(outliers).dropna()\n",
    "\n",
    "    qmin = groups.quantile(q=0.00)\n",
    "    qmax = groups.quantile(q=1.00)\n",
    "    upper = [min([x_axis,y_axis]) for (x_axis,y_axis) in zip(list(qmax.loc[:]),upper)]\n",
    "    lower = [max([x_axis,y_axis]) for (x_axis,y_axis) in zip(list(qmin.loc[:]),lower)]\n",
    "\n",
    "    # stems\n",
    "    self.segment(cat, upper, cat, q3, line_color=\"black\")\n",
    "    self.segment(cat, lower, cat, q1, line_color=\"black\")\n",
    "    # boxes\n",
    "    self.vbar(cat, 0.7, q2, q3, fill_color=\"blue\", line_color=\"black\")\n",
    "    self.vbar(cat, 0.7, q1, q2, fill_color=\"blue\", line_color=\"black\")\n",
    "    # whiskers (almost-0 height rects simpler than segments)\n",
    "    self.rect(cat, lower, 0.2, 0.01, line_color=\"black\")\n",
    "    self.rect(cat, upper, 0.2, 0.01, line_color=\"black\")\n",
    "    \n",
    "    # outliers\n",
    "    if not out.empty:\n",
    "        outx = []\n",
    "        outy = []\n",
    "        for keys in out.index:\n",
    "            outx.append(keys[0])\n",
    "            outy.append(out.loc[keys[0]].loc[keys[1]])\n",
    "        self.circle(outx, outy, size=6, color=\"#F38630\", fill_alpha=0.6)\n",
    "    \n",
    "    # your code goes here\n",
    "    \n",
    "    label = Label( x=50, y=50, x_units='screen', y_units='screen',\n",
    "                    render_mode='css' )\n",
    "    self.add_layout(label)\n",
    "\n",
    "Figure.vboxplot = vboxplot"
   ]
  },
  {
   "cell_type": "code",
   "execution_count": 739,
   "metadata": {},
   "outputs": [],
   "source": [
    "def hboxplot( self, source, x, y, **kwargs ):\n",
    "    if not isinstance(source, pd.DataFrame ):\n",
    "        raise TypeError(\"source has to be a pandas DataFrame.\")\n",
    "\n",
    "    groups = source.groupby([y])[x]\n",
    "    \n",
    "    q1 = groups.quantile(q=0.25)\n",
    "    q2 = groups.quantile(q=0.5)\n",
    "    q3 = groups.quantile(q=0.75)\n",
    "    iqr = q3 - q1\n",
    "    upper = q3 + 1.5*iqr\n",
    "    lower = q1 - 1.5*iqr\n",
    "    \n",
    "    cat = q1.keys();\n",
    "    \n",
    "    def outliers(group):\n",
    "        cat = group.name\n",
    "        return group[(group > upper.loc[cat]) | (group < lower.loc[cat])]\n",
    "    out = groups.apply(outliers).dropna()\n",
    "\n",
    "    qmin = groups.quantile(q=0.00)\n",
    "    qmax = groups.quantile(q=1.00)\n",
    "    upper = [min([x_axis,y_axis]) for (x_axis,y_axis) in zip(list(qmax.loc[:]),upper)]\n",
    "    lower = [max([x_axis,y_axis]) for (x_axis,y_axis) in zip(list(qmin.loc[:]),lower)]\n",
    "\n",
    "\n",
    "    # stems\n",
    "    self.segment(upper, cat, q3, cat, line_color=\"black\")\n",
    "    self.segment(lower, cat, q1, cat, line_color=\"black\")\n",
    "    # boxes\n",
    "    self.hbar(cat, 0.7, q2, q3, fill_color=\"blue\", line_color=\"black\")\n",
    "    self.hbar(cat, 0.7, q1, q2, fill_color=\"blue\", line_color=\"black\")\n",
    "    # whiskers (almost-0 height rects simpler than segments)\n",
    "    self.rect(lower, cat, 0.01, 0.2, line_color=\"black\")\n",
    "    self.rect(upper, cat, 0.01, 0.2, line_color=\"black\")\n",
    "    \n",
    "    # outliers\n",
    "    if not out.empty:\n",
    "        outx = []\n",
    "        outy = []\n",
    "        for keys in out.index:\n",
    "            outy.append(keys[0])\n",
    "            outx.append(out.loc[keys[0]].loc[keys[1]])\n",
    "        self.circle(outx, outy, size=6, color=\"#F38630\", fill_alpha=0.6)\n",
    "\n",
    "    # your code goes here\n",
    "\n",
    "    label = Label( x=50, y=50, x_units='screen', y_units='screen',\n",
    "                    render_mode='css' )\n",
    "    self.add_layout(label)\n",
    "\n",
    "Figure.hboxplot = hboxplot"
   ]
  },
  {
   "cell_type": "markdown",
   "metadata": {},
   "source": [
    "**<font color=\"deeppink\">Check</font>** your boxplot"
   ]
  },
  {
   "cell_type": "code",
   "execution_count": 740,
   "metadata": {
    "scrolled": true
   },
   "outputs": [
    {
     "data": {
      "text/html": [
       "\n",
       "\n",
       "\n",
       "\n",
       "\n",
       "\n",
       "  <div class=\"bk-root\" id=\"b57fd5ba-8e42-4747-a425-cd17fd076ca9\"></div>\n"
      ]
     },
     "metadata": {},
     "output_type": "display_data"
    },
    {
     "data": {
      "application/javascript": [
       "(function(root) {\n",
       "  function embed_document(root) {\n",
       "    \n",
       "  var docs_json = {\"a84f4359-8893-4a62-94bb-e2121765480b\":{\"roots\":{\"references\":[{\"attributes\":{},\"id\":\"b13e3086-3d84-4f95-bc3d-d524cc02437d\",\"type\":\"Selection\"},{\"attributes\":{},\"id\":\"1aa69e0e-cdb9-40e6-a104-899fbde52e03\",\"type\":\"HelpTool\"},{\"attributes\":{},\"id\":\"ff367d43-fdf9-4d4e-870f-65ce988ae881\",\"type\":\"UnionRenderers\"},{\"attributes\":{\"bottom_units\":\"screen\",\"fill_alpha\":{\"value\":0.5},\"fill_color\":{\"value\":\"lightgrey\"},\"left_units\":\"screen\",\"level\":\"overlay\",\"line_alpha\":{\"value\":1.0},\"line_color\":{\"value\":\"black\"},\"line_dash\":[4,4],\"line_width\":{\"value\":2},\"plot\":null,\"render_mode\":\"css\",\"right_units\":\"screen\",\"top_units\":\"screen\"},\"id\":\"b0efe2ce-53b7-4072-b95a-4d9461c27670\",\"type\":\"BoxAnnotation\"},{\"attributes\":{\"plot\":{\"id\":\"766349ae-42a2-4788-8453-c62f5ff73a8c\",\"subtype\":\"Figure\",\"type\":\"Plot\"},\"render_mode\":\"css\",\"x\":50,\"x_units\":\"screen\",\"y\":50,\"y_units\":\"screen\"},\"id\":\"b7c0ca17-a5e9-4574-a2b7-abcc749aab38\",\"type\":\"Label\"},{\"attributes\":{\"callback\":null,\"data\":{\"x\":[\"setosa\",\"setosa\"],\"y\":[0.5,0.6]},\"selected\":{\"id\":\"6dfe9c46-1fdf-4e93-8636-6ebf4826a124\",\"type\":\"Selection\"},\"selection_policy\":{\"id\":\"095feee2-05af-4268-9c58-144eedaa624a\",\"type\":\"UnionRenderers\"}},\"id\":\"920b2a25-5634-487d-800f-e26e894c0709\",\"type\":\"ColumnDataSource\"},{\"attributes\":{},\"id\":\"f76a40ac-34d2-4ff7-a67b-e4fa9b7e6183\",\"type\":\"UnionRenderers\"},{\"attributes\":{\"callback\":null},\"id\":\"bcfd4017-f646-4bdb-9428-3e933fd394d2\",\"type\":\"DataRange1d\"},{\"attributes\":{\"fill_color\":{\"value\":\"blue\"},\"height\":{\"value\":0.7},\"left\":{\"field\":\"left\"},\"right\":{\"field\":\"right\"},\"y\":{\"field\":\"y\"}},\"id\":\"35c28c7d-1eb6-412a-b9aa-d49545c6aa38\",\"type\":\"HBar\"},{\"attributes\":{},\"id\":\"816e564b-8a80-42d5-9be0-dffa2eec9cc8\",\"type\":\"Selection\"},{\"attributes\":{},\"id\":\"96abc7e9-5fe6-488b-85e7-76b804fade44\",\"type\":\"BasicTickFormatter\"},{\"attributes\":{},\"id\":\"8e916995-5893-4ce3-9c76-524f1d6d4fb8\",\"type\":\"Selection\"},{\"attributes\":{},\"id\":\"8ef6feee-7e8b-4099-bfa7-d40990354405\",\"type\":\"Selection\"},{\"attributes\":{\"callback\":null,\"data\":{\"x0\":[\"setosa\",\"versicolor\",\"virginica\"],\"x1\":[\"setosa\",\"versicolor\",\"virginica\"],\"y0\":[0.44999999999999996,1.8,2.5],\"y1\":{\"__ndarray__\":\"MzMzMzMz0z8AAAAAAAD4P2ZmZmZmZgJA\",\"dtype\":\"float64\",\"shape\":[3]}},\"selected\":{\"id\":\"b13e3086-3d84-4f95-bc3d-d524cc02437d\",\"type\":\"Selection\"},\"selection_policy\":{\"id\":\"457229a9-fa88-40a1-9279-b1b9d9bf642d\",\"type\":\"UnionRenderers\"}},\"id\":\"024004b7-2b4d-4420-a055-3f433bdec1e4\",\"type\":\"ColumnDataSource\"},{\"attributes\":{},\"id\":\"26325f1f-931f-4ff4-82a7-90025fa2c5a0\",\"type\":\"UnionRenderers\"},{\"attributes\":{\"source\":{\"id\":\"024004b7-2b4d-4420-a055-3f433bdec1e4\",\"type\":\"ColumnDataSource\"}},\"id\":\"5ebfcd23-5013-48eb-9561-1483ea593dc4\",\"type\":\"CDSView\"},{\"attributes\":{},\"id\":\"1a3d7315-42f0-4807-b150-02c02ba222fb\",\"type\":\"Selection\"},{\"attributes\":{\"plot\":null,\"text\":\"\"},\"id\":\"4019ec20-37fa-425b-a96f-0b4d14e24941\",\"type\":\"Title\"},{\"attributes\":{},\"id\":\"cd2d2da1-f740-4ca1-b120-298e7bf1bc10\",\"type\":\"UnionRenderers\"},{\"attributes\":{\"callback\":null,\"data\":{\"left\":{\"__ndarray__\":\"mpmZmZmZyT/NzMzMzMz0PwAAAAAAAABA\",\"dtype\":\"float64\",\"shape\":[3]},\"right\":{\"__ndarray__\":\"mpmZmZmZyT8zMzMzMzPzP83MzMzMzPw/\",\"dtype\":\"float64\",\"shape\":[3]},\"y\":[\"setosa\",\"versicolor\",\"virginica\"]},\"selected\":{\"id\":\"8e916995-5893-4ce3-9c76-524f1d6d4fb8\",\"type\":\"Selection\"},\"selection_policy\":{\"id\":\"6758e1ed-85c2-4500-bff9-b9e3b7698b9b\",\"type\":\"UnionRenderers\"}},\"id\":\"12aac96d-181f-49c4-818a-f269eb66425a\",\"type\":\"ColumnDataSource\"},{\"attributes\":{},\"id\":\"0d1f81de-ba67-4883-a591-04c7716874e9\",\"type\":\"Selection\"},{\"attributes\":{\"data_source\":{\"id\":\"8cc82dcb-d7b3-49ce-a671-7361885ca8df\",\"type\":\"ColumnDataSource\"},\"glyph\":{\"id\":\"d8770466-12e6-44c1-ac64-99b1f3d76469\",\"type\":\"Circle\"},\"hover_glyph\":null,\"muted_glyph\":null,\"nonselection_glyph\":{\"id\":\"c9d110bf-25c3-4c26-8519-d0ffc4ffe08b\",\"type\":\"Circle\"},\"selection_glyph\":null,\"view\":{\"id\":\"313668d1-22fe-419e-980f-a77817686e52\",\"type\":\"CDSView\"}},\"id\":\"0891f2d7-a825-4616-b24c-a61c698164c7\",\"type\":\"GlyphRenderer\"},{\"attributes\":{\"line_alpha\":{\"value\":0.1},\"line_color\":{\"value\":\"#1f77b4\"},\"x0\":{\"field\":\"x0\"},\"x1\":{\"field\":\"x1\"},\"y0\":{\"field\":\"y0\"},\"y1\":{\"field\":\"y1\"}},\"id\":\"0f920c90-7b23-48f1-afab-e279fa9552b5\",\"type\":\"Segment\"},{\"attributes\":{},\"id\":\"457229a9-fa88-40a1-9279-b1b9d9bf642d\",\"type\":\"UnionRenderers\"},{\"attributes\":{\"x0\":{\"field\":\"x0\"},\"x1\":{\"field\":\"x1\"},\"y0\":{\"field\":\"y0\"},\"y1\":{\"field\":\"y1\"}},\"id\":\"267bb656-648d-400c-9245-90bdc9950178\",\"type\":\"Segment\"},{\"attributes\":{},\"id\":\"0e6e9400-6f37-44ef-893f-9bee4b3b9294\",\"type\":\"UnionRenderers\"},{\"attributes\":{\"plot\":null,\"text\":\"\"},\"id\":\"df54c213-0d40-4bf1-8346-d086da7f79c3\",\"type\":\"Title\"},{\"attributes\":{},\"id\":\"ad6a6956-92fa-48e9-8e18-b26a73897742\",\"type\":\"Selection\"},{\"attributes\":{},\"id\":\"eda6cc86-6f51-4136-90c9-31fd66edf7b7\",\"type\":\"PanTool\"},{\"attributes\":{},\"id\":\"f344ee48-ae0f-4b45-8f28-18981c80f33f\",\"type\":\"UnionRenderers\"},{\"attributes\":{},\"id\":\"da8d31ff-1b1b-4584-83d4-01a8c51cf21e\",\"type\":\"ResetTool\"},{\"attributes\":{\"line_alpha\":{\"value\":0.1},\"line_color\":{\"value\":\"#1f77b4\"},\"x0\":{\"field\":\"x0\"},\"x1\":{\"field\":\"x1\"},\"y0\":{\"field\":\"y0\"},\"y1\":{\"field\":\"y1\"}},\"id\":\"676f7296-823d-44af-9ebd-aa6d551c7f43\",\"type\":\"Segment\"},{\"attributes\":{},\"id\":\"8f475573-29d9-483c-9c0b-bad6b770a8ce\",\"type\":\"Selection\"},{\"attributes\":{},\"id\":\"0a9cc2ce-5cf5-40bb-930c-0299987c5f1e\",\"type\":\"UnionRenderers\"},{\"attributes\":{},\"id\":\"dc3a7035-eb32-4e02-b0ce-76a518656c35\",\"type\":\"Selection\"},{\"attributes\":{},\"id\":\"426108ce-bf54-4bb6-9907-8b0dd2392242\",\"type\":\"UnionRenderers\"},{\"attributes\":{\"callback\":null},\"id\":\"87094493-90e4-4fb5-890b-f9aff89ba9a0\",\"type\":\"DataRange1d\"},{\"attributes\":{},\"id\":\"fdcd34a6-02f7-4aba-a3b6-83ad89b10697\",\"type\":\"Selection\"},{\"attributes\":{},\"id\":\"9b04ec93-8a58-4968-bd93-4e05b2c19db7\",\"type\":\"UnionRenderers\"},{\"attributes\":{},\"id\":\"864a801b-9227-4333-9ff5-d0314aeb86c3\",\"type\":\"Selection\"},{\"attributes\":{},\"id\":\"095feee2-05af-4268-9c58-144eedaa624a\",\"type\":\"UnionRenderers\"},{\"attributes\":{},\"id\":\"6dfe9c46-1fdf-4e93-8636-6ebf4826a124\",\"type\":\"Selection\"},{\"attributes\":{\"bottom_units\":\"screen\",\"fill_alpha\":{\"value\":0.5},\"fill_color\":{\"value\":\"lightgrey\"},\"left_units\":\"screen\",\"level\":\"overlay\",\"line_alpha\":{\"value\":1.0},\"line_color\":{\"value\":\"black\"},\"line_dash\":[4,4],\"line_width\":{\"value\":2},\"plot\":null,\"render_mode\":\"css\",\"right_units\":\"screen\",\"top_units\":\"screen\"},\"id\":\"493ba975-cda6-4d7e-9ccb-e961525bb772\",\"type\":\"BoxAnnotation\"},{\"attributes\":{\"x0\":{\"field\":\"x0\"},\"x1\":{\"field\":\"x1\"},\"y0\":{\"field\":\"y0\"},\"y1\":{\"field\":\"y1\"}},\"id\":\"410d6c40-1118-4b21-a484-37f3e5bc3930\",\"type\":\"Segment\"},{\"attributes\":{\"callback\":null,\"data\":{\"x0\":[0.1,1.0,1.4],\"x1\":{\"__ndarray__\":\"mpmZmZmZyT8zMzMzMzPzP83MzMzMzPw/\",\"dtype\":\"float64\",\"shape\":[3]},\"y0\":[\"setosa\",\"versicolor\",\"virginica\"],\"y1\":[\"setosa\",\"versicolor\",\"virginica\"]},\"selected\":{\"id\":\"27f2c929-6318-42e1-8db0-31bf1c62aa14\",\"type\":\"Selection\"},\"selection_policy\":{\"id\":\"1cb773d5-f02e-440b-9dc1-30f18e1dedac\",\"type\":\"UnionRenderers\"}},\"id\":\"e726ca8a-9e1c-4512-bfbf-49ed063f7823\",\"type\":\"ColumnDataSource\"},{\"attributes\":{\"source\":{\"id\":\"7c33d8cf-c1f0-430f-8fa5-7e664dbf0b01\",\"type\":\"ColumnDataSource\"}},\"id\":\"a008689d-f6cc-45cb-96e4-702459b3167c\",\"type\":\"CDSView\"},{\"attributes\":{},\"id\":\"47d291e9-2450-40a3-bbb8-63d4457db27c\",\"type\":\"BasicTicker\"},{\"attributes\":{},\"id\":\"703faf7d-929e-4431-aa5c-a411c1b00907\",\"type\":\"LinearScale\"},{\"attributes\":{\"axis_label\":\"petal_width\",\"formatter\":{\"id\":\"96abc7e9-5fe6-488b-85e7-76b804fade44\",\"type\":\"BasicTickFormatter\"},\"plot\":{\"id\":\"0938a590-2097-40cc-be5a-0a72fd792c76\",\"subtype\":\"Figure\",\"type\":\"Plot\"},\"ticker\":{\"id\":\"83b1d6a7-dd65-483e-bf3e-9bdabc6e81a7\",\"type\":\"BasicTicker\"}},\"id\":\"757766f9-45c9-4c27-8ba6-4ec08797fc26\",\"type\":\"LinearAxis\"},{\"attributes\":{\"data_source\":{\"id\":\"7c33d8cf-c1f0-430f-8fa5-7e664dbf0b01\",\"type\":\"ColumnDataSource\"},\"glyph\":{\"id\":\"35c28c7d-1eb6-412a-b9aa-d49545c6aa38\",\"type\":\"HBar\"},\"hover_glyph\":null,\"muted_glyph\":null,\"nonselection_glyph\":{\"id\":\"c5f3e642-f7e4-453a-839e-5b1af81724e7\",\"type\":\"HBar\"},\"selection_glyph\":null,\"view\":{\"id\":\"a008689d-f6cc-45cb-96e4-702459b3167c\",\"type\":\"CDSView\"}},\"id\":\"ccd6b349-6f44-452c-8266-43ce5349ddbe\",\"type\":\"GlyphRenderer\"},{\"attributes\":{\"fill_color\":{\"value\":\"blue\"},\"height\":{\"value\":0.7},\"left\":{\"field\":\"left\"},\"right\":{\"field\":\"right\"},\"y\":{\"field\":\"y\"}},\"id\":\"1aa9ffdc-35e6-42df-b49a-57676d6a8ba2\",\"type\":\"HBar\"},{\"attributes\":{\"callback\":null,\"data\":{\"left\":{\"__ndarray__\":\"MzMzMzMz0z8AAAAAAAD4P2ZmZmZmZgJA\",\"dtype\":\"float64\",\"shape\":[3]},\"right\":{\"__ndarray__\":\"mpmZmZmZyT/NzMzMzMz0PwAAAAAAAABA\",\"dtype\":\"float64\",\"shape\":[3]},\"y\":[\"setosa\",\"versicolor\",\"virginica\"]},\"selected\":{\"id\":\"816e564b-8a80-42d5-9be0-dffa2eec9cc8\",\"type\":\"Selection\"},\"selection_policy\":{\"id\":\"ff367d43-fdf9-4d4e-870f-65ce988ae881\",\"type\":\"UnionRenderers\"}},\"id\":\"7c33d8cf-c1f0-430f-8fa5-7e664dbf0b01\",\"type\":\"ColumnDataSource\"},{\"attributes\":{\"fill_alpha\":{\"value\":0.1},\"fill_color\":{\"value\":\"#1f77b4\"},\"height\":{\"value\":0.7},\"left\":{\"field\":\"left\"},\"line_alpha\":{\"value\":0.1},\"line_color\":{\"value\":\"#1f77b4\"},\"right\":{\"field\":\"right\"},\"y\":{\"field\":\"y\"}},\"id\":\"0bae65d4-0fa8-4652-8ae0-689cbe05e106\",\"type\":\"HBar\"},{\"attributes\":{\"data_source\":{\"id\":\"12aac96d-181f-49c4-818a-f269eb66425a\",\"type\":\"ColumnDataSource\"},\"glyph\":{\"id\":\"1aa9ffdc-35e6-42df-b49a-57676d6a8ba2\",\"type\":\"HBar\"},\"hover_glyph\":null,\"muted_glyph\":null,\"nonselection_glyph\":{\"id\":\"0bae65d4-0fa8-4652-8ae0-689cbe05e106\",\"type\":\"HBar\"},\"selection_glyph\":null,\"view\":{\"id\":\"036798c6-7fcb-4620-92cb-2ba2cbccaad1\",\"type\":\"CDSView\"}},\"id\":\"7980120d-8333-4e19-b785-f10eb4b49bbf\",\"type\":\"GlyphRenderer\"},{\"attributes\":{\"source\":{\"id\":\"e726ca8a-9e1c-4512-bfbf-49ed063f7823\",\"type\":\"ColumnDataSource\"}},\"id\":\"ce420608-1bca-4276-9489-71060477917c\",\"type\":\"CDSView\"},{\"attributes\":{},\"id\":\"589ce548-c7e3-4ce4-95be-7a6a30e4c001\",\"type\":\"CategoricalScale\"},{\"attributes\":{\"line_alpha\":{\"value\":0.1},\"line_color\":{\"value\":\"#1f77b4\"},\"x0\":{\"field\":\"x0\"},\"x1\":{\"field\":\"x1\"},\"y0\":{\"field\":\"y0\"},\"y1\":{\"field\":\"y1\"}},\"id\":\"f3fc41d3-f19f-4da8-bcaa-ad7bbb46ff4a\",\"type\":\"Segment\"},{\"attributes\":{\"source\":{\"id\":\"12aac96d-181f-49c4-818a-f269eb66425a\",\"type\":\"ColumnDataSource\"}},\"id\":\"036798c6-7fcb-4620-92cb-2ba2cbccaad1\",\"type\":\"CDSView\"},{\"attributes\":{},\"id\":\"6c74ff45-0112-4dd2-9d9b-4464fa82d224\",\"type\":\"HelpTool\"},{\"attributes\":{\"fill_alpha\":{\"value\":0.1},\"fill_color\":{\"value\":\"#1f77b4\"},\"height\":{\"value\":0.7},\"left\":{\"field\":\"left\"},\"line_alpha\":{\"value\":0.1},\"line_color\":{\"value\":\"#1f77b4\"},\"right\":{\"field\":\"right\"},\"y\":{\"field\":\"y\"}},\"id\":\"c5f3e642-f7e4-453a-839e-5b1af81724e7\",\"type\":\"HBar\"},{\"attributes\":{\"callback\":null,\"data\":{\"x\":[0.1,1.0,1.4],\"y\":[\"setosa\",\"versicolor\",\"virginica\"]},\"selected\":{\"id\":\"8ef6feee-7e8b-4099-bfa7-d40990354405\",\"type\":\"Selection\"},\"selection_policy\":{\"id\":\"f76a40ac-34d2-4ff7-a67b-e4fa9b7e6183\",\"type\":\"UnionRenderers\"}},\"id\":\"6722a391-104a-47cc-be37-a68a07ad0956\",\"type\":\"ColumnDataSource\"},{\"attributes\":{\"overlay\":{\"id\":\"493ba975-cda6-4d7e-9ccb-e961525bb772\",\"type\":\"BoxAnnotation\"}},\"id\":\"fe78844c-5a8b-4710-acd1-e367683dbc5d\",\"type\":\"BoxZoomTool\"},{\"attributes\":{\"x0\":{\"field\":\"x0\"},\"x1\":{\"field\":\"x1\"},\"y0\":{\"field\":\"y0\"},\"y1\":{\"field\":\"y1\"}},\"id\":\"0e34540b-0426-483d-951b-83640abc81ea\",\"type\":\"Segment\"},{\"attributes\":{\"fill_color\":{\"value\":\"#1f77b4\"},\"height\":{\"units\":\"data\",\"value\":0.2},\"width\":{\"units\":\"data\",\"value\":0.01},\"x\":{\"field\":\"x\"},\"y\":{\"field\":\"y\"}},\"id\":\"835bddb6-bc4f-42f1-9bf8-1f5d59a8749f\",\"type\":\"Rect\"},{\"attributes\":{\"dimension\":1,\"plot\":{\"id\":\"766349ae-42a2-4788-8453-c62f5ff73a8c\",\"subtype\":\"Figure\",\"type\":\"Plot\"},\"ticker\":{\"id\":\"47d291e9-2450-40a3-bbb8-63d4457db27c\",\"type\":\"BasicTicker\"}},\"id\":\"2ccacb7c-5249-411f-bc7e-2f508b2090b3\",\"type\":\"Grid\"},{\"attributes\":{\"fill_alpha\":{\"value\":0.1},\"fill_color\":{\"value\":\"#1f77b4\"},\"height\":{\"units\":\"data\",\"value\":0.2},\"line_alpha\":{\"value\":0.1},\"line_color\":{\"value\":\"#1f77b4\"},\"width\":{\"units\":\"data\",\"value\":0.01},\"x\":{\"field\":\"x\"},\"y\":{\"field\":\"y\"}},\"id\":\"553df707-9dcd-425a-8cb1-ef0504285f95\",\"type\":\"Rect\"},{\"attributes\":{\"data_source\":{\"id\":\"e726ca8a-9e1c-4512-bfbf-49ed063f7823\",\"type\":\"ColumnDataSource\"},\"glyph\":{\"id\":\"0e34540b-0426-483d-951b-83640abc81ea\",\"type\":\"Segment\"},\"hover_glyph\":null,\"muted_glyph\":null,\"nonselection_glyph\":{\"id\":\"f3fc41d3-f19f-4da8-bcaa-ad7bbb46ff4a\",\"type\":\"Segment\"},\"selection_glyph\":null,\"view\":{\"id\":\"ce420608-1bca-4276-9489-71060477917c\",\"type\":\"CDSView\"}},\"id\":\"b44714ac-2632-4fd2-a349-c9a07d022d3e\",\"type\":\"GlyphRenderer\"},{\"attributes\":{\"data_source\":{\"id\":\"6722a391-104a-47cc-be37-a68a07ad0956\",\"type\":\"ColumnDataSource\"},\"glyph\":{\"id\":\"835bddb6-bc4f-42f1-9bf8-1f5d59a8749f\",\"type\":\"Rect\"},\"hover_glyph\":null,\"muted_glyph\":null,\"nonselection_glyph\":{\"id\":\"553df707-9dcd-425a-8cb1-ef0504285f95\",\"type\":\"Rect\"},\"selection_glyph\":null,\"view\":{\"id\":\"0f4391c2-1bd4-45d4-9b3d-0d8c135150a3\",\"type\":\"CDSView\"}},\"id\":\"80e21506-3b3f-417e-ac55-c256b76a5c2e\",\"type\":\"GlyphRenderer\"},{\"attributes\":{},\"id\":\"1b1159c8-86f5-4fc3-b40d-2eedeef4c24e\",\"type\":\"SaveTool\"},{\"attributes\":{\"source\":{\"id\":\"6722a391-104a-47cc-be37-a68a07ad0956\",\"type\":\"ColumnDataSource\"}},\"id\":\"0f4391c2-1bd4-45d4-9b3d-0d8c135150a3\",\"type\":\"CDSView\"},{\"attributes\":{\"callback\":null,\"data\":{\"x0\":[0.44999999999999996,1.8,2.5],\"x1\":{\"__ndarray__\":\"MzMzMzMz0z8AAAAAAAD4P2ZmZmZmZgJA\",\"dtype\":\"float64\",\"shape\":[3]},\"y0\":[\"setosa\",\"versicolor\",\"virginica\"],\"y1\":[\"setosa\",\"versicolor\",\"virginica\"]},\"selected\":{\"id\":\"b01fe5dd-2d34-4400-a80c-f37cce2258d4\",\"type\":\"Selection\"},\"selection_policy\":{\"id\":\"ac771593-055d-4242-8537-89a411214a0e\",\"type\":\"UnionRenderers\"}},\"id\":\"406d812c-582e-4b02-809f-57095d0a272c\",\"type\":\"ColumnDataSource\"},{\"attributes\":{\"callback\":null,\"data\":{\"x\":[0.44999999999999996,1.8,2.5],\"y\":[\"setosa\",\"versicolor\",\"virginica\"]},\"selected\":{\"id\":\"1a3d7315-42f0-4807-b150-02c02ba222fb\",\"type\":\"Selection\"},\"selection_policy\":{\"id\":\"26325f1f-931f-4ff4-82a7-90025fa2c5a0\",\"type\":\"UnionRenderers\"}},\"id\":\"6d47c1bb-94a4-4fc1-81fa-11c9e5ba22fd\",\"type\":\"ColumnDataSource\"},{\"attributes\":{\"source\":{\"id\":\"d4c20519-3fbe-407a-affb-41f7ff2e28d2\",\"type\":\"ColumnDataSource\"}},\"id\":\"bd8ee398-b489-4bd7-b8b5-17f2954ef869\",\"type\":\"CDSView\"},{\"attributes\":{\"line_alpha\":{\"value\":0.1},\"line_color\":{\"value\":\"#1f77b4\"},\"x0\":{\"field\":\"x0\"},\"x1\":{\"field\":\"x1\"},\"y0\":{\"field\":\"y0\"},\"y1\":{\"field\":\"y1\"}},\"id\":\"0ab50e47-1a23-4030-95c2-82421970dadd\",\"type\":\"Segment\"},{\"attributes\":{\"fill_color\":{\"value\":\"#1f77b4\"},\"height\":{\"units\":\"data\",\"value\":0.2},\"width\":{\"units\":\"data\",\"value\":0.01},\"x\":{\"field\":\"x\"},\"y\":{\"field\":\"y\"}},\"id\":\"9f74d679-0862-47ce-a296-61d27dbecddb\",\"type\":\"Rect\"},{\"attributes\":{\"source\":{\"id\":\"831eb5a0-0086-4353-ae78-8f83b33b4146\",\"type\":\"ColumnDataSource\"}},\"id\":\"fc3e07c5-7c15-477e-b700-914cfbbba538\",\"type\":\"CDSView\"},{\"attributes\":{\"fill_alpha\":{\"value\":0.1},\"fill_color\":{\"value\":\"#1f77b4\"},\"height\":{\"units\":\"data\",\"value\":0.2},\"line_alpha\":{\"value\":0.1},\"line_color\":{\"value\":\"#1f77b4\"},\"width\":{\"units\":\"data\",\"value\":0.01},\"x\":{\"field\":\"x\"},\"y\":{\"field\":\"y\"}},\"id\":\"049c2194-e8e5-4cc3-9bf2-1a1d25d2fad2\",\"type\":\"Rect\"},{\"attributes\":{},\"id\":\"fc68200e-276f-424d-9046-4375da4b8908\",\"type\":\"CategoricalTicker\"},{\"attributes\":{\"data_source\":{\"id\":\"6d47c1bb-94a4-4fc1-81fa-11c9e5ba22fd\",\"type\":\"ColumnDataSource\"},\"glyph\":{\"id\":\"9f74d679-0862-47ce-a296-61d27dbecddb\",\"type\":\"Rect\"},\"hover_glyph\":null,\"muted_glyph\":null,\"nonselection_glyph\":{\"id\":\"049c2194-e8e5-4cc3-9bf2-1a1d25d2fad2\",\"type\":\"Rect\"},\"selection_glyph\":null,\"view\":{\"id\":\"39173f28-85aa-400a-b743-52478a030dbf\",\"type\":\"CDSView\"}},\"id\":\"f7981ed8-2b5b-4c45-975f-3ddeb67706e7\",\"type\":\"GlyphRenderer\"},{\"attributes\":{},\"id\":\"1cb773d5-f02e-440b-9dc1-30f18e1dedac\",\"type\":\"UnionRenderers\"},{\"attributes\":{},\"id\":\"83b1d6a7-dd65-483e-bf3e-9bdabc6e81a7\",\"type\":\"BasicTicker\"},{\"attributes\":{\"source\":{\"id\":\"6d47c1bb-94a4-4fc1-81fa-11c9e5ba22fd\",\"type\":\"ColumnDataSource\"}},\"id\":\"39173f28-85aa-400a-b743-52478a030dbf\",\"type\":\"CDSView\"},{\"attributes\":{\"active_drag\":\"auto\",\"active_inspect\":\"auto\",\"active_multi\":null,\"active_scroll\":\"auto\",\"active_tap\":\"auto\",\"tools\":[{\"id\":\"eda6cc86-6f51-4136-90c9-31fd66edf7b7\",\"type\":\"PanTool\"},{\"id\":\"c157d916-4043-44e7-a136-bb4fb882ace5\",\"type\":\"WheelZoomTool\"},{\"id\":\"fe78844c-5a8b-4710-acd1-e367683dbc5d\",\"type\":\"BoxZoomTool\"},{\"id\":\"1b1159c8-86f5-4fc3-b40d-2eedeef4c24e\",\"type\":\"SaveTool\"},{\"id\":\"da8d31ff-1b1b-4584-83d4-01a8c51cf21e\",\"type\":\"ResetTool\"},{\"id\":\"6c74ff45-0112-4dd2-9d9b-4464fa82d224\",\"type\":\"HelpTool\"}]},\"id\":\"250802d5-46dc-4abc-aa8b-88f60f7b83a3\",\"type\":\"Toolbar\"},{\"attributes\":{},\"id\":\"faa6bb08-eb23-4ea5-8b0b-72e7551a0dd4\",\"type\":\"CategoricalTickFormatter\"},{\"attributes\":{\"callback\":null,\"data\":{\"x0\":[\"setosa\",\"versicolor\",\"virginica\"],\"x1\":[\"setosa\",\"versicolor\",\"virginica\"],\"y0\":[0.1,1.0,1.4],\"y1\":{\"__ndarray__\":\"mpmZmZmZyT8zMzMzMzPzP83MzMzMzPw/\",\"dtype\":\"float64\",\"shape\":[3]}},\"selected\":{\"id\":\"ad6a6956-92fa-48e9-8e18-b26a73897742\",\"type\":\"Selection\"},\"selection_policy\":{\"id\":\"0e6e9400-6f37-44ef-893f-9bee4b3b9294\",\"type\":\"UnionRenderers\"}},\"id\":\"831eb5a0-0086-4353-ae78-8f83b33b4146\",\"type\":\"ColumnDataSource\"},{\"attributes\":{\"axis_label\":\"species\",\"formatter\":{\"id\":\"faa6bb08-eb23-4ea5-8b0b-72e7551a0dd4\",\"type\":\"CategoricalTickFormatter\"},\"plot\":{\"id\":\"0938a590-2097-40cc-be5a-0a72fd792c76\",\"subtype\":\"Figure\",\"type\":\"Plot\"},\"ticker\":{\"id\":\"d2c57c8f-9827-44e4-b96c-6e69aaea6b6b\",\"type\":\"CategoricalTicker\"}},\"id\":\"a5482962-5eba-4c51-9c67-72f1e53d5ddf\",\"type\":\"CategoricalAxis\"},{\"attributes\":{\"fill_alpha\":{\"value\":0.1},\"fill_color\":{\"value\":\"#1f77b4\"},\"line_alpha\":{\"value\":0.1},\"line_color\":{\"value\":\"#1f77b4\"},\"size\":{\"units\":\"screen\",\"value\":6},\"x\":{\"field\":\"x\"},\"y\":{\"field\":\"y\"}},\"id\":\"c9d110bf-25c3-4c26-8519-d0ffc4ffe08b\",\"type\":\"Circle\"},{\"attributes\":{\"bottom\":{\"field\":\"bottom\"},\"fill_color\":{\"value\":\"blue\"},\"top\":{\"field\":\"top\"},\"width\":{\"value\":0.7},\"x\":{\"field\":\"x\"}},\"id\":\"83271be0-0838-4e12-9d1d-6711e8f72492\",\"type\":\"VBar\"},{\"attributes\":{\"fill_alpha\":{\"value\":0.6},\"fill_color\":{\"value\":\"#F38630\"},\"line_color\":{\"value\":\"#F38630\"},\"size\":{\"units\":\"screen\",\"value\":6},\"x\":{\"field\":\"x\"},\"y\":{\"field\":\"y\"}},\"id\":\"d8770466-12e6-44c1-ac64-99b1f3d76469\",\"type\":\"Circle\"},{\"attributes\":{\"callback\":null,\"data\":{\"bottom\":{\"__ndarray__\":\"MzMzMzMz0z8AAAAAAAD4P2ZmZmZmZgJA\",\"dtype\":\"float64\",\"shape\":[3]},\"top\":{\"__ndarray__\":\"mpmZmZmZyT/NzMzMzMz0PwAAAAAAAABA\",\"dtype\":\"float64\",\"shape\":[3]},\"x\":[\"setosa\",\"versicolor\",\"virginica\"]},\"selected\":{\"id\":\"8f475573-29d9-483c-9c0b-bad6b770a8ce\",\"type\":\"Selection\"},\"selection_policy\":{\"id\":\"f344ee48-ae0f-4b45-8f28-18981c80f33f\",\"type\":\"UnionRenderers\"}},\"id\":\"d4c20519-3fbe-407a-affb-41f7ff2e28d2\",\"type\":\"ColumnDataSource\"},{\"attributes\":{\"x0\":{\"field\":\"x0\"},\"x1\":{\"field\":\"x1\"},\"y0\":{\"field\":\"y0\"},\"y1\":{\"field\":\"y1\"}},\"id\":\"3b0ef8fb-99c9-435c-98aa-5f8c071d3dd5\",\"type\":\"Segment\"},{\"attributes\":{},\"id\":\"b01fe5dd-2d34-4400-a80c-f37cce2258d4\",\"type\":\"Selection\"},{\"attributes\":{\"axis_label\":\"species\",\"formatter\":{\"id\":\"fd0cf1ec-1f1c-41c9-8fd2-8b3638fc04c7\",\"type\":\"CategoricalTickFormatter\"},\"plot\":{\"id\":\"766349ae-42a2-4788-8453-c62f5ff73a8c\",\"subtype\":\"Figure\",\"type\":\"Plot\"},\"ticker\":{\"id\":\"fc68200e-276f-424d-9046-4375da4b8908\",\"type\":\"CategoricalTicker\"}},\"id\":\"c2847583-02f9-4b14-abdf-a67a606aec1d\",\"type\":\"CategoricalAxis\"},{\"attributes\":{\"data_source\":{\"id\":\"d4c20519-3fbe-407a-affb-41f7ff2e28d2\",\"type\":\"ColumnDataSource\"},\"glyph\":{\"id\":\"83271be0-0838-4e12-9d1d-6711e8f72492\",\"type\":\"VBar\"},\"hover_glyph\":null,\"muted_glyph\":null,\"nonselection_glyph\":{\"id\":\"28ab1e20-460a-4a63-a354-27f227c14a85\",\"type\":\"VBar\"},\"selection_glyph\":null,\"view\":{\"id\":\"bd8ee398-b489-4bd7-b8b5-17f2954ef869\",\"type\":\"CDSView\"}},\"id\":\"c6b9f750-58a1-4a06-aaa9-f84910334eb1\",\"type\":\"GlyphRenderer\"},{\"attributes\":{},\"id\":\"a681af4b-b711-4ce4-b9f1-b2e9c6a4a9a7\",\"type\":\"LinearScale\"},{\"attributes\":{\"bottom\":{\"field\":\"bottom\"},\"fill_alpha\":{\"value\":0.1},\"fill_color\":{\"value\":\"#1f77b4\"},\"line_alpha\":{\"value\":0.1},\"line_color\":{\"value\":\"#1f77b4\"},\"top\":{\"field\":\"top\"},\"width\":{\"value\":0.7},\"x\":{\"field\":\"x\"}},\"id\":\"28ab1e20-460a-4a63-a354-27f227c14a85\",\"type\":\"VBar\"},{\"attributes\":{\"data_source\":{\"id\":\"831eb5a0-0086-4353-ae78-8f83b33b4146\",\"type\":\"ColumnDataSource\"},\"glyph\":{\"id\":\"3b0ef8fb-99c9-435c-98aa-5f8c071d3dd5\",\"type\":\"Segment\"},\"hover_glyph\":null,\"muted_glyph\":null,\"nonselection_glyph\":{\"id\":\"676f7296-823d-44af-9ebd-aa6d551c7f43\",\"type\":\"Segment\"},\"selection_glyph\":null,\"view\":{\"id\":\"fc3e07c5-7c15-477e-b700-914cfbbba538\",\"type\":\"CDSView\"}},\"id\":\"caa43ee1-41ed-40b5-a7c7-3577306026cc\",\"type\":\"GlyphRenderer\"},{\"attributes\":{},\"id\":\"d2c57c8f-9827-44e4-b96c-6e69aaea6b6b\",\"type\":\"CategoricalTicker\"},{\"attributes\":{\"source\":{\"id\":\"8cc82dcb-d7b3-49ce-a671-7361885ca8df\",\"type\":\"ColumnDataSource\"}},\"id\":\"313668d1-22fe-419e-980f-a77817686e52\",\"type\":\"CDSView\"},{\"attributes\":{\"plot\":{\"id\":\"0938a590-2097-40cc-be5a-0a72fd792c76\",\"subtype\":\"Figure\",\"type\":\"Plot\"},\"render_mode\":\"css\",\"x\":50,\"x_units\":\"screen\",\"y\":50,\"y_units\":\"screen\"},\"id\":\"d8542f75-6aab-4da3-94f0-59bf2ecb1e8b\",\"type\":\"Label\"},{\"attributes\":{\"axis_label\":\"petal_width\",\"formatter\":{\"id\":\"0b0bd857-8e2f-472e-ba0d-fbeac0c25753\",\"type\":\"BasicTickFormatter\"},\"plot\":{\"id\":\"766349ae-42a2-4788-8453-c62f5ff73a8c\",\"subtype\":\"Figure\",\"type\":\"Plot\"},\"ticker\":{\"id\":\"47d291e9-2450-40a3-bbb8-63d4457db27c\",\"type\":\"BasicTicker\"}},\"id\":\"01e5594e-ac35-40b3-960e-544cfb915012\",\"type\":\"LinearAxis\"},{\"attributes\":{},\"id\":\"ac771593-055d-4242-8537-89a411214a0e\",\"type\":\"UnionRenderers\"},{\"attributes\":{},\"id\":\"27f2c929-6318-42e1-8db0-31bf1c62aa14\",\"type\":\"Selection\"},{\"attributes\":{\"plot\":{\"id\":\"0938a590-2097-40cc-be5a-0a72fd792c76\",\"subtype\":\"Figure\",\"type\":\"Plot\"},\"ticker\":{\"id\":\"83b1d6a7-dd65-483e-bf3e-9bdabc6e81a7\",\"type\":\"BasicTicker\"}},\"id\":\"8e6829c0-0c21-4b0b-9092-833b01c78466\",\"type\":\"Grid\"},{\"attributes\":{},\"id\":\"fd0cf1ec-1f1c-41c9-8fd2-8b3638fc04c7\",\"type\":\"CategoricalTickFormatter\"},{\"attributes\":{\"plot\":{\"id\":\"766349ae-42a2-4788-8453-c62f5ff73a8c\",\"subtype\":\"Figure\",\"type\":\"Plot\"},\"ticker\":{\"id\":\"fc68200e-276f-424d-9046-4375da4b8908\",\"type\":\"CategoricalTicker\"}},\"id\":\"fba1bd20-c2b8-412c-9c78-c857c2f1ca0c\",\"type\":\"Grid\"},{\"attributes\":{},\"id\":\"0b0bd857-8e2f-472e-ba0d-fbeac0c25753\",\"type\":\"BasicTickFormatter\"},{\"attributes\":{},\"id\":\"f2df2a5b-3767-478e-96cd-ab648e3030fe\",\"type\":\"PanTool\"},{\"attributes\":{},\"id\":\"c157d916-4043-44e7-a136-bb4fb882ace5\",\"type\":\"WheelZoomTool\"},{\"attributes\":{},\"id\":\"b0f91704-000e-4c79-9f85-709018e77235\",\"type\":\"ResetTool\"},{\"attributes\":{},\"id\":\"e2d309a4-4470-45be-9286-ecc35ad40ff5\",\"type\":\"CategoricalScale\"},{\"attributes\":{},\"id\":\"e689e70f-f091-4ee2-b9da-c88bfdc6573d\",\"type\":\"WheelZoomTool\"},{\"attributes\":{\"callback\":null,\"factors\":[\"setosa\",\"versicolor\",\"virginica\"]},\"id\":\"5b2688be-ccc0-49b4-885d-52f9643f11ef\",\"type\":\"FactorRange\"},{\"attributes\":{\"overlay\":{\"id\":\"b0efe2ce-53b7-4072-b95a-4d9461c27670\",\"type\":\"BoxAnnotation\"}},\"id\":\"6f290d51-3314-4a40-b4a5-2af542a27fa9\",\"type\":\"BoxZoomTool\"},{\"attributes\":{\"dimension\":1,\"plot\":{\"id\":\"0938a590-2097-40cc-be5a-0a72fd792c76\",\"subtype\":\"Figure\",\"type\":\"Plot\"},\"ticker\":{\"id\":\"d2c57c8f-9827-44e4-b96c-6e69aaea6b6b\",\"type\":\"CategoricalTicker\"}},\"id\":\"091ca6a5-c417-4e84-915d-670aced3fbd0\",\"type\":\"Grid\"},{\"attributes\":{},\"id\":\"6ea082d7-35c7-4e92-8a18-7571bdce1b8b\",\"type\":\"SaveTool\"},{\"attributes\":{\"active_drag\":\"auto\",\"active_inspect\":\"auto\",\"active_multi\":null,\"active_scroll\":\"auto\",\"active_tap\":\"auto\",\"tools\":[{\"id\":\"f2df2a5b-3767-478e-96cd-ab648e3030fe\",\"type\":\"PanTool\"},{\"id\":\"e689e70f-f091-4ee2-b9da-c88bfdc6573d\",\"type\":\"WheelZoomTool\"},{\"id\":\"6f290d51-3314-4a40-b4a5-2af542a27fa9\",\"type\":\"BoxZoomTool\"},{\"id\":\"6ea082d7-35c7-4e92-8a18-7571bdce1b8b\",\"type\":\"SaveTool\"},{\"id\":\"b0f91704-000e-4c79-9f85-709018e77235\",\"type\":\"ResetTool\"},{\"id\":\"1aa69e0e-cdb9-40e6-a104-899fbde52e03\",\"type\":\"HelpTool\"}]},\"id\":\"6101c33d-1e6a-4ad4-af93-6ef93bcc02c7\",\"type\":\"Toolbar\"},{\"attributes\":{\"data_source\":{\"id\":\"406d812c-582e-4b02-809f-57095d0a272c\",\"type\":\"ColumnDataSource\"},\"glyph\":{\"id\":\"410d6c40-1118-4b21-a484-37f3e5bc3930\",\"type\":\"Segment\"},\"hover_glyph\":null,\"muted_glyph\":null,\"nonselection_glyph\":{\"id\":\"0ab50e47-1a23-4030-95c2-82421970dadd\",\"type\":\"Segment\"},\"selection_glyph\":null,\"view\":{\"id\":\"196ff3ca-2d5d-411b-85e8-77819c932a28\",\"type\":\"CDSView\"}},\"id\":\"601c032a-839d-40ad-9ba9-1334ac89c783\",\"type\":\"GlyphRenderer\"},{\"attributes\":{\"source\":{\"id\":\"406d812c-582e-4b02-809f-57095d0a272c\",\"type\":\"ColumnDataSource\"}},\"id\":\"196ff3ca-2d5d-411b-85e8-77819c932a28\",\"type\":\"CDSView\"},{\"attributes\":{\"data_source\":{\"id\":\"024004b7-2b4d-4420-a055-3f433bdec1e4\",\"type\":\"ColumnDataSource\"},\"glyph\":{\"id\":\"267bb656-648d-400c-9245-90bdc9950178\",\"type\":\"Segment\"},\"hover_glyph\":null,\"muted_glyph\":null,\"nonselection_glyph\":{\"id\":\"0f920c90-7b23-48f1-afab-e279fa9552b5\",\"type\":\"Segment\"},\"selection_glyph\":null,\"view\":{\"id\":\"5ebfcd23-5013-48eb-9561-1483ea593dc4\",\"type\":\"CDSView\"}},\"id\":\"e4aec840-d38d-4fc2-baf7-9576b5232f6c\",\"type\":\"GlyphRenderer\"},{\"attributes\":{\"callback\":null,\"data\":{\"bottom\":{\"__ndarray__\":\"mpmZmZmZyT/NzMzMzMz0PwAAAAAAAABA\",\"dtype\":\"float64\",\"shape\":[3]},\"top\":{\"__ndarray__\":\"mpmZmZmZyT8zMzMzMzPzP83MzMzMzPw/\",\"dtype\":\"float64\",\"shape\":[3]},\"x\":[\"setosa\",\"versicolor\",\"virginica\"]},\"selected\":{\"id\":\"dc3a7035-eb32-4e02-b0ce-76a518656c35\",\"type\":\"Selection\"},\"selection_policy\":{\"id\":\"0a9cc2ce-5cf5-40bb-930c-0299987c5f1e\",\"type\":\"UnionRenderers\"}},\"id\":\"e41f4820-ede5-4b1e-be5c-0ea61e520682\",\"type\":\"ColumnDataSource\"},{\"attributes\":{\"data_source\":{\"id\":\"920b2a25-5634-487d-800f-e26e894c0709\",\"type\":\"ColumnDataSource\"},\"glyph\":{\"id\":\"dfd53ea9-7f79-4201-95f8-8366d6814337\",\"type\":\"Circle\"},\"hover_glyph\":null,\"muted_glyph\":null,\"nonselection_glyph\":{\"id\":\"7b9ec40e-b7bf-429f-b2da-01aac108ea2d\",\"type\":\"Circle\"},\"selection_glyph\":null,\"view\":{\"id\":\"f9081338-0207-4d93-a44a-1feef012ace3\",\"type\":\"CDSView\"}},\"id\":\"6516647d-7fda-415f-a2c0-0d4cbafe6105\",\"type\":\"GlyphRenderer\"},{\"attributes\":{\"callback\":null,\"data\":{\"x\":[0.5,0.6],\"y\":[\"setosa\",\"setosa\"]},\"selected\":{\"id\":\"0d1f81de-ba67-4883-a591-04c7716874e9\",\"type\":\"Selection\"},\"selection_policy\":{\"id\":\"cd2d2da1-f740-4ca1-b120-298e7bf1bc10\",\"type\":\"UnionRenderers\"}},\"id\":\"8cc82dcb-d7b3-49ce-a671-7361885ca8df\",\"type\":\"ColumnDataSource\"},{\"attributes\":{\"callback\":null,\"factors\":[\"setosa\",\"versicolor\",\"virginica\"]},\"id\":\"9a098ffc-4405-400e-8f5a-66434ff86559\",\"type\":\"FactorRange\"},{\"attributes\":{\"bottom\":{\"field\":\"bottom\"},\"fill_color\":{\"value\":\"blue\"},\"top\":{\"field\":\"top\"},\"width\":{\"value\":0.7},\"x\":{\"field\":\"x\"}},\"id\":\"0f8c8760-c3fe-45fa-a2d0-821063b77431\",\"type\":\"VBar\"},{\"attributes\":{\"bottom\":{\"field\":\"bottom\"},\"fill_alpha\":{\"value\":0.1},\"fill_color\":{\"value\":\"#1f77b4\"},\"line_alpha\":{\"value\":0.1},\"line_color\":{\"value\":\"#1f77b4\"},\"top\":{\"field\":\"top\"},\"width\":{\"value\":0.7},\"x\":{\"field\":\"x\"}},\"id\":\"079d6998-412b-40c9-9f5c-9895f0c6f840\",\"type\":\"VBar\"},{\"attributes\":{\"data_source\":{\"id\":\"e41f4820-ede5-4b1e-be5c-0ea61e520682\",\"type\":\"ColumnDataSource\"},\"glyph\":{\"id\":\"0f8c8760-c3fe-45fa-a2d0-821063b77431\",\"type\":\"VBar\"},\"hover_glyph\":null,\"muted_glyph\":null,\"nonselection_glyph\":{\"id\":\"079d6998-412b-40c9-9f5c-9895f0c6f840\",\"type\":\"VBar\"},\"selection_glyph\":null,\"view\":{\"id\":\"26229a56-323e-4cec-b48c-2cc7336e7d21\",\"type\":\"CDSView\"}},\"id\":\"253761ba-7c8a-4441-9d90-e48b6b02f915\",\"type\":\"GlyphRenderer\"},{\"attributes\":{\"source\":{\"id\":\"e41f4820-ede5-4b1e-be5c-0ea61e520682\",\"type\":\"ColumnDataSource\"}},\"id\":\"26229a56-323e-4cec-b48c-2cc7336e7d21\",\"type\":\"CDSView\"},{\"attributes\":{\"callback\":null,\"data\":{\"x\":[\"setosa\",\"versicolor\",\"virginica\"],\"y\":[0.1,1.0,1.4]},\"selected\":{\"id\":\"fdcd34a6-02f7-4aba-a3b6-83ad89b10697\",\"type\":\"Selection\"},\"selection_policy\":{\"id\":\"426108ce-bf54-4bb6-9907-8b0dd2392242\",\"type\":\"UnionRenderers\"}},\"id\":\"df530459-1b1c-4883-b70a-a714504d9658\",\"type\":\"ColumnDataSource\"},{\"attributes\":{\"children\":[{\"id\":\"0938a590-2097-40cc-be5a-0a72fd792c76\",\"subtype\":\"Figure\",\"type\":\"Plot\"},{\"id\":\"766349ae-42a2-4788-8453-c62f5ff73a8c\",\"subtype\":\"Figure\",\"type\":\"Plot\"}]},\"id\":\"e6e58d4c-0470-45ea-b054-2df7a4947873\",\"type\":\"Row\"},{\"attributes\":{\"fill_color\":{\"value\":\"#1f77b4\"},\"height\":{\"units\":\"data\",\"value\":0.01},\"width\":{\"units\":\"data\",\"value\":0.2},\"x\":{\"field\":\"x\"},\"y\":{\"field\":\"y\"}},\"id\":\"9c6749de-096e-4f15-bc14-1417bf8f39ac\",\"type\":\"Rect\"},{\"attributes\":{\"fill_alpha\":{\"value\":0.1},\"fill_color\":{\"value\":\"#1f77b4\"},\"height\":{\"units\":\"data\",\"value\":0.01},\"line_alpha\":{\"value\":0.1},\"line_color\":{\"value\":\"#1f77b4\"},\"width\":{\"units\":\"data\",\"value\":0.2},\"x\":{\"field\":\"x\"},\"y\":{\"field\":\"y\"}},\"id\":\"469e222c-c1ee-4024-9aca-79a272040ac6\",\"type\":\"Rect\"},{\"attributes\":{\"below\":[{\"id\":\"c2847583-02f9-4b14-abdf-a67a606aec1d\",\"type\":\"CategoricalAxis\"}],\"left\":[{\"id\":\"01e5594e-ac35-40b3-960e-544cfb915012\",\"type\":\"LinearAxis\"}],\"plot_height\":300,\"plot_width\":400,\"renderers\":[{\"id\":\"c2847583-02f9-4b14-abdf-a67a606aec1d\",\"type\":\"CategoricalAxis\"},{\"id\":\"fba1bd20-c2b8-412c-9c78-c857c2f1ca0c\",\"type\":\"Grid\"},{\"id\":\"01e5594e-ac35-40b3-960e-544cfb915012\",\"type\":\"LinearAxis\"},{\"id\":\"2ccacb7c-5249-411f-bc7e-2f508b2090b3\",\"type\":\"Grid\"},{\"id\":\"b0efe2ce-53b7-4072-b95a-4d9461c27670\",\"type\":\"BoxAnnotation\"},{\"id\":\"e4aec840-d38d-4fc2-baf7-9576b5232f6c\",\"type\":\"GlyphRenderer\"},{\"id\":\"caa43ee1-41ed-40b5-a7c7-3577306026cc\",\"type\":\"GlyphRenderer\"},{\"id\":\"c6b9f750-58a1-4a06-aaa9-f84910334eb1\",\"type\":\"GlyphRenderer\"},{\"id\":\"253761ba-7c8a-4441-9d90-e48b6b02f915\",\"type\":\"GlyphRenderer\"},{\"id\":\"0bdeb067-9305-497e-b48b-f88f9d117336\",\"type\":\"GlyphRenderer\"},{\"id\":\"cfbc7222-3ac5-4a97-a959-b576ffa6bdd2\",\"type\":\"GlyphRenderer\"},{\"id\":\"6516647d-7fda-415f-a2c0-0d4cbafe6105\",\"type\":\"GlyphRenderer\"},{\"id\":\"b7c0ca17-a5e9-4574-a2b7-abcc749aab38\",\"type\":\"Label\"}],\"title\":{\"id\":\"4019ec20-37fa-425b-a96f-0b4d14e24941\",\"type\":\"Title\"},\"toolbar\":{\"id\":\"6101c33d-1e6a-4ad4-af93-6ef93bcc02c7\",\"type\":\"Toolbar\"},\"x_range\":{\"id\":\"9a098ffc-4405-400e-8f5a-66434ff86559\",\"type\":\"FactorRange\"},\"x_scale\":{\"id\":\"e2d309a4-4470-45be-9286-ecc35ad40ff5\",\"type\":\"CategoricalScale\"},\"y_range\":{\"id\":\"bcfd4017-f646-4bdb-9428-3e933fd394d2\",\"type\":\"DataRange1d\"},\"y_scale\":{\"id\":\"703faf7d-929e-4431-aa5c-a411c1b00907\",\"type\":\"LinearScale\"}},\"id\":\"766349ae-42a2-4788-8453-c62f5ff73a8c\",\"subtype\":\"Figure\",\"type\":\"Plot\"},{\"attributes\":{\"data_source\":{\"id\":\"df530459-1b1c-4883-b70a-a714504d9658\",\"type\":\"ColumnDataSource\"},\"glyph\":{\"id\":\"9c6749de-096e-4f15-bc14-1417bf8f39ac\",\"type\":\"Rect\"},\"hover_glyph\":null,\"muted_glyph\":null,\"nonselection_glyph\":{\"id\":\"469e222c-c1ee-4024-9aca-79a272040ac6\",\"type\":\"Rect\"},\"selection_glyph\":null,\"view\":{\"id\":\"41bd93cb-d2ac-4c02-b57b-3beb2305a0d6\",\"type\":\"CDSView\"}},\"id\":\"0bdeb067-9305-497e-b48b-f88f9d117336\",\"type\":\"GlyphRenderer\"},{\"attributes\":{\"source\":{\"id\":\"df530459-1b1c-4883-b70a-a714504d9658\",\"type\":\"ColumnDataSource\"}},\"id\":\"41bd93cb-d2ac-4c02-b57b-3beb2305a0d6\",\"type\":\"CDSView\"},{\"attributes\":{\"below\":[{\"id\":\"757766f9-45c9-4c27-8ba6-4ec08797fc26\",\"type\":\"LinearAxis\"}],\"left\":[{\"id\":\"a5482962-5eba-4c51-9c67-72f1e53d5ddf\",\"type\":\"CategoricalAxis\"}],\"plot_height\":300,\"plot_width\":400,\"renderers\":[{\"id\":\"757766f9-45c9-4c27-8ba6-4ec08797fc26\",\"type\":\"LinearAxis\"},{\"id\":\"8e6829c0-0c21-4b0b-9092-833b01c78466\",\"type\":\"Grid\"},{\"id\":\"a5482962-5eba-4c51-9c67-72f1e53d5ddf\",\"type\":\"CategoricalAxis\"},{\"id\":\"091ca6a5-c417-4e84-915d-670aced3fbd0\",\"type\":\"Grid\"},{\"id\":\"493ba975-cda6-4d7e-9ccb-e961525bb772\",\"type\":\"BoxAnnotation\"},{\"id\":\"601c032a-839d-40ad-9ba9-1334ac89c783\",\"type\":\"GlyphRenderer\"},{\"id\":\"b44714ac-2632-4fd2-a349-c9a07d022d3e\",\"type\":\"GlyphRenderer\"},{\"id\":\"ccd6b349-6f44-452c-8266-43ce5349ddbe\",\"type\":\"GlyphRenderer\"},{\"id\":\"7980120d-8333-4e19-b785-f10eb4b49bbf\",\"type\":\"GlyphRenderer\"},{\"id\":\"80e21506-3b3f-417e-ac55-c256b76a5c2e\",\"type\":\"GlyphRenderer\"},{\"id\":\"f7981ed8-2b5b-4c45-975f-3ddeb67706e7\",\"type\":\"GlyphRenderer\"},{\"id\":\"0891f2d7-a825-4616-b24c-a61c698164c7\",\"type\":\"GlyphRenderer\"},{\"id\":\"d8542f75-6aab-4da3-94f0-59bf2ecb1e8b\",\"type\":\"Label\"}],\"title\":{\"id\":\"df54c213-0d40-4bf1-8346-d086da7f79c3\",\"type\":\"Title\"},\"toolbar\":{\"id\":\"250802d5-46dc-4abc-aa8b-88f60f7b83a3\",\"type\":\"Toolbar\"},\"x_range\":{\"id\":\"87094493-90e4-4fb5-890b-f9aff89ba9a0\",\"type\":\"DataRange1d\"},\"x_scale\":{\"id\":\"a681af4b-b711-4ce4-b9f1-b2e9c6a4a9a7\",\"type\":\"LinearScale\"},\"y_range\":{\"id\":\"5b2688be-ccc0-49b4-885d-52f9643f11ef\",\"type\":\"FactorRange\"},\"y_scale\":{\"id\":\"589ce548-c7e3-4ce4-95be-7a6a30e4c001\",\"type\":\"CategoricalScale\"}},\"id\":\"0938a590-2097-40cc-be5a-0a72fd792c76\",\"subtype\":\"Figure\",\"type\":\"Plot\"},{\"attributes\":{\"callback\":null,\"data\":{\"x\":[\"setosa\",\"versicolor\",\"virginica\"],\"y\":[0.44999999999999996,1.8,2.5]},\"selected\":{\"id\":\"864a801b-9227-4333-9ff5-d0314aeb86c3\",\"type\":\"Selection\"},\"selection_policy\":{\"id\":\"9b04ec93-8a58-4968-bd93-4e05b2c19db7\",\"type\":\"UnionRenderers\"}},\"id\":\"5965f144-c1d5-4ae1-99d4-76a5bc65d4ec\",\"type\":\"ColumnDataSource\"},{\"attributes\":{\"fill_color\":{\"value\":\"#1f77b4\"},\"height\":{\"units\":\"data\",\"value\":0.01},\"width\":{\"units\":\"data\",\"value\":0.2},\"x\":{\"field\":\"x\"},\"y\":{\"field\":\"y\"}},\"id\":\"d5132782-7b69-4b02-a5aa-cd32147ee29f\",\"type\":\"Rect\"},{\"attributes\":{\"fill_alpha\":{\"value\":0.1},\"fill_color\":{\"value\":\"#1f77b4\"},\"height\":{\"units\":\"data\",\"value\":0.01},\"line_alpha\":{\"value\":0.1},\"line_color\":{\"value\":\"#1f77b4\"},\"width\":{\"units\":\"data\",\"value\":0.2},\"x\":{\"field\":\"x\"},\"y\":{\"field\":\"y\"}},\"id\":\"2a799785-e42d-4d51-b2f9-a5d91564a4fe\",\"type\":\"Rect\"},{\"attributes\":{\"data_source\":{\"id\":\"5965f144-c1d5-4ae1-99d4-76a5bc65d4ec\",\"type\":\"ColumnDataSource\"},\"glyph\":{\"id\":\"d5132782-7b69-4b02-a5aa-cd32147ee29f\",\"type\":\"Rect\"},\"hover_glyph\":null,\"muted_glyph\":null,\"nonselection_glyph\":{\"id\":\"2a799785-e42d-4d51-b2f9-a5d91564a4fe\",\"type\":\"Rect\"},\"selection_glyph\":null,\"view\":{\"id\":\"3325f48e-db86-490d-8240-2deee6a76d55\",\"type\":\"CDSView\"}},\"id\":\"cfbc7222-3ac5-4a97-a959-b576ffa6bdd2\",\"type\":\"GlyphRenderer\"},{\"attributes\":{\"source\":{\"id\":\"5965f144-c1d5-4ae1-99d4-76a5bc65d4ec\",\"type\":\"ColumnDataSource\"}},\"id\":\"3325f48e-db86-490d-8240-2deee6a76d55\",\"type\":\"CDSView\"},{\"attributes\":{\"fill_alpha\":{\"value\":0.1},\"fill_color\":{\"value\":\"#1f77b4\"},\"line_alpha\":{\"value\":0.1},\"line_color\":{\"value\":\"#1f77b4\"},\"size\":{\"units\":\"screen\",\"value\":6},\"x\":{\"field\":\"x\"},\"y\":{\"field\":\"y\"}},\"id\":\"7b9ec40e-b7bf-429f-b2da-01aac108ea2d\",\"type\":\"Circle\"},{\"attributes\":{\"fill_alpha\":{\"value\":0.6},\"fill_color\":{\"value\":\"#F38630\"},\"line_color\":{\"value\":\"#F38630\"},\"size\":{\"units\":\"screen\",\"value\":6},\"x\":{\"field\":\"x\"},\"y\":{\"field\":\"y\"}},\"id\":\"dfd53ea9-7f79-4201-95f8-8366d6814337\",\"type\":\"Circle\"},{\"attributes\":{\"source\":{\"id\":\"920b2a25-5634-487d-800f-e26e894c0709\",\"type\":\"ColumnDataSource\"}},\"id\":\"f9081338-0207-4d93-a44a-1feef012ace3\",\"type\":\"CDSView\"},{\"attributes\":{},\"id\":\"6758e1ed-85c2-4500-bff9-b9e3b7698b9b\",\"type\":\"UnionRenderers\"}],\"root_ids\":[\"e6e58d4c-0470-45ea-b054-2df7a4947873\"]},\"title\":\"Bokeh Application\",\"version\":\"0.13.0\"}};\n",
       "  var render_items = [{\"docid\":\"a84f4359-8893-4a62-94bb-e2121765480b\",\"roots\":{\"e6e58d4c-0470-45ea-b054-2df7a4947873\":\"b57fd5ba-8e42-4747-a425-cd17fd076ca9\"}}];\n",
       "  root.Bokeh.embed.embed_items_notebook(docs_json, render_items);\n",
       "\n",
       "  }\n",
       "  if (root.Bokeh !== undefined) {\n",
       "    embed_document(root);\n",
       "  } else {\n",
       "    var attempts = 0;\n",
       "    var timer = setInterval(function(root) {\n",
       "      if (root.Bokeh !== undefined) {\n",
       "        embed_document(root);\n",
       "        clearInterval(timer);\n",
       "      }\n",
       "      attempts++;\n",
       "      if (attempts > 100) {\n",
       "        console.log(\"Bokeh: ERROR: Unable to run BokehJS code because BokehJS library is missing\")\n",
       "        clearInterval(timer);\n",
       "      }\n",
       "    }, 10, root)\n",
       "  }\n",
       "})(window);"
      ],
      "application/vnd.bokehjs_exec.v0+json": ""
     },
     "metadata": {
      "application/vnd.bokehjs_exec.v0+json": {
       "id": "e6e58d4c-0470-45ea-b054-2df7a4947873"
      }
     },
     "output_type": "display_data"
    }
   ],
   "source": [
    "p1 = figure( plot_width=400, plot_height=300, y_range=['setosa', 'versicolor', 'virginica'] )\n",
    "p1.hboxplot( flowers, 'petal_width', 'species' )\n",
    "p1.xaxis.axis_label = 'petal_width'\n",
    "p1.yaxis.axis_label = 'species'\n",
    "\n",
    "p2 = figure( plot_width=400, plot_height=300, x_range=['setosa', 'versicolor', 'virginica'] )\n",
    "p2.vboxplot( flowers, 'species', 'petal_width' )\n",
    "p2.yaxis.axis_label = 'petal_width'\n",
    "p2.xaxis.axis_label = 'species'\n",
    "\n",
    "show( row(p1,p2))"
   ]
  },
  {
   "cell_type": "markdown",
   "metadata": {},
   "source": [
    "**<font color=\"deeppink\">Test cases</font>**: Give three scenarios that need testing (bullet points, no implementation required).\n",
    "- Test case 1:\n",
    "- Test case 2:\n",
    "- Test case 3:"
   ]
  },
  {
   "cell_type": "markdown",
   "metadata": {},
   "source": [
    "## Exercise 1 c): Implement a histogram chart\n",
    "\n",
    "Requirements:\n",
    "- **Parameters**: The function accepts (at least) the following parameters:\n",
    "    - **source**: a pandas DataFrameObject that holds the data\n",
    "    - **x**: variable (name as string) to be represented on the x-axis\n",
    "    - **nbins**: number of bins (optional argument). If not provided set a meaningful default.\n",
    "- **Data type**: Provide histograms for categorical and quantitative data.\n",
    "- **Scaling**: The y-axis shall give probabilities (0,1). Scale the axis to show the full range, e.g., (-0.05,1.05).\n",
    "- **Calling the histogram**: The function is a class method of Figure and can be called as follows\n",
    "```python\n",
    "p = figure()\n",
    "p.histogram( data, x )\n",
    "```\n",
    "\n",
    "Hints:\n",
    "- Assume that all categorical data has type string. Respective columns in the data can be converted using:\n",
    "```\n",
    "df.var = df.var.astype('str')\n",
    "```\n",
    "\n",
    "**<font color=\"deeppink\">Implement</font>**"
   ]
  },
  {
   "cell_type": "code",
   "execution_count": 741,
   "metadata": {},
   "outputs": [],
   "source": [
    "from bokeh.models import Range1d, FactorRange\n",
    "\n",
    "def histogram( self, source, x, nbins=0, *args, **kwargs ):  \n",
    "    if not isinstance(source, pd.DataFrame ):\n",
    "        raise TypeError(\"source has to be a pandas.DataFrame. Received \", type(df))\n",
    "\n",
    "    if(source[x].dtypes == object):\n",
    "        data = source[x].astype('str')\n",
    "        data =np.array(data)\n",
    "        temp={}\n",
    "        for value in data:\n",
    "            if value in temp:\n",
    "                temp[value] +=1\n",
    "            else:\n",
    "                temp[value] = 1\n",
    "        hist_data = [list(temp.values()),list(temp.keys())]\n",
    "#         hist_data = get_histogram(data,True)\n",
    "    else:\n",
    "        data = source[x]\n",
    "        hist_data = np.histogram(data)\n",
    "    \n",
    "    x_axis = hist_data[1]\n",
    "    y_axis = hist_data[0] / np.sum(hist_data[0])\n",
    "    self.vbar(x=x_axis, top=y_axis, width=0.4, line_color='black', fill_color='red')\n",
    "    self.y_range = Range1d(start=-0.05, end=1.05)\n",
    "    # your code goes here\n",
    "\n",
    "    label = Label( x=50, y=50, x_units='screen', y_units='screen',\n",
    "                    render_mode='css' )\n",
    "    self.add_layout(label)\n",
    "\n",
    "Figure.histogram = histogram"
   ]
  },
  {
   "cell_type": "markdown",
   "metadata": {},
   "source": [
    "**<font color=\"deeppink\">Check</font>** your histogram"
   ]
  },
  {
   "cell_type": "code",
   "execution_count": 742,
   "metadata": {},
   "outputs": [
    {
     "name": "stderr",
     "output_type": "stream",
     "text": [
      "C:\\Users\\Udit Dokania\\AppData\\Local\\Continuum\\anaconda3\\lib\\site-packages\\bokeh\\models\\sources.py:110: BokehUserWarning: ColumnDataSource's columns must be of the same length. Current lengths: ('top', 10), ('x', 11)\n",
      "  \"Current lengths: %s\" % \", \".join(sorted(str((k, len(v))) for k, v in data.items())), BokehUserWarning))\n",
      "C:\\Users\\Udit Dokania\\AppData\\Local\\Continuum\\anaconda3\\lib\\site-packages\\bokeh\\models\\sources.py:110: BokehUserWarning: ColumnDataSource's columns must be of the same length. Current lengths: ('top', 10), ('x', 11)\n",
      "  \"Current lengths: %s\" % \", \".join(sorted(str((k, len(v))) for k, v in data.items())), BokehUserWarning))\n"
     ]
    },
    {
     "data": {
      "text/html": [
       "\n",
       "\n",
       "\n",
       "\n",
       "\n",
       "\n",
       "  <div class=\"bk-root\" id=\"9931e804-94fe-46f5-8579-3e19bb69edab\"></div>\n"
      ]
     },
     "metadata": {},
     "output_type": "display_data"
    },
    {
     "data": {
      "application/javascript": [
       "(function(root) {\n",
       "  function embed_document(root) {\n",
       "    \n",
       "  var docs_json = {\"834e296c-ae31-44e3-84d4-cab4ff79e6dd\":{\"roots\":{\"references\":[{\"attributes\":{},\"id\":\"9c0c1112-b5a8-4a4d-b0df-e2ad9c6d700f\",\"type\":\"LinearScale\"},{\"attributes\":{\"dimension\":1,\"plot\":{\"id\":\"c231b2d9-9fae-4f47-83da-5956e720c924\",\"subtype\":\"Figure\",\"type\":\"Plot\"},\"ticker\":{\"id\":\"1586eec0-e89d-4c0b-bfd6-7eab5c2fd2c6\",\"type\":\"BasicTicker\"}},\"id\":\"0227c0d2-75aa-41e7-a365-ddb9a09b3252\",\"type\":\"Grid\"},{\"attributes\":{},\"id\":\"5a85ccbc-b013-4c3a-ad51-cf85d147a65e\",\"type\":\"HelpTool\"},{\"attributes\":{\"callback\":null,\"data\":{\"top\":{\"__ndarray__\":\"uB6F61G4rj+g0wY6baDDP+UXS36x5Lc/CtejcD0Kxz9PG+i0gU67PzCW/GLJL8Y/uB6F61G4vj97FK5H4XqkPxEREREREaE/exSuR+F6pD8=\",\"dtype\":\"float64\",\"shape\":[10]},\"x\":{\"__ndarray__\":\"MzMzMzMzEUCkcD0K16MSQBSuR+F6FBRAhetRuB6FFUD2KFyPwvUWQGZmZmZmZhhA16NwPQrXGUBI4XoUrkcbQLgehetRuBxAKVyPwvUoHkCamZmZmZkfQA==\",\"dtype\":\"float64\",\"shape\":[11]}},\"selected\":{\"id\":\"19c5095f-1e77-400f-806a-7856cc2efb96\",\"type\":\"Selection\"},\"selection_policy\":{\"id\":\"10406196-ea69-4a4c-8077-5c405f1d27f4\",\"type\":\"UnionRenderers\"}},\"id\":\"95ec3aa6-c7fa-4e80-987f-6acf17e5f323\",\"type\":\"ColumnDataSource\"},{\"attributes\":{\"bottom_units\":\"screen\",\"fill_alpha\":{\"value\":0.5},\"fill_color\":{\"value\":\"lightgrey\"},\"left_units\":\"screen\",\"level\":\"overlay\",\"line_alpha\":{\"value\":1.0},\"line_color\":{\"value\":\"black\"},\"line_dash\":[4,4],\"line_width\":{\"value\":2},\"plot\":null,\"render_mode\":\"css\",\"right_units\":\"screen\",\"top_units\":\"screen\"},\"id\":\"cc124e97-ca3b-452c-b99b-494a7b439cba\",\"type\":\"BoxAnnotation\"},{\"attributes\":{\"callback\":null,\"end\":1.05,\"start\":-0.05},\"id\":\"b63a6f3c-2e09-4f3b-90e4-16d7d1d387f2\",\"type\":\"Range1d\"},{\"attributes\":{},\"id\":\"0bbc676f-12ab-4b8b-80fa-a4a4ad6783de\",\"type\":\"BasicTicker\"},{\"attributes\":{},\"id\":\"e0533c53-3b3d-4ff5-a44b-f0af0ce74b8e\",\"type\":\"LinearScale\"},{\"attributes\":{\"data_source\":{\"id\":\"88e1b74d-7848-44fd-83e4-5e6281caca35\",\"type\":\"ColumnDataSource\"},\"glyph\":{\"id\":\"1d7a9715-6ac5-4974-af34-145b804358f4\",\"type\":\"VBar\"},\"hover_glyph\":null,\"muted_glyph\":null,\"nonselection_glyph\":{\"id\":\"5cbad7e4-8586-4f34-874a-8f92704b8b2c\",\"type\":\"VBar\"},\"selection_glyph\":null,\"view\":{\"id\":\"36455075-7a8a-4952-b77d-39ee08283fc6\",\"type\":\"CDSView\"}},\"id\":\"aa585567-6385-48d0-b194-335762ddadb3\",\"type\":\"GlyphRenderer\"},{\"attributes\":{},\"id\":\"368274ad-8f5d-44c7-93ed-13b4e5c1efdd\",\"type\":\"LinearScale\"},{\"attributes\":{\"below\":[{\"id\":\"4525a675-c734-4ee6-a0ad-ea25f1c54cb6\",\"type\":\"LinearAxis\"}],\"left\":[{\"id\":\"4544c737-979c-4325-9ee3-a49fc68b5f4b\",\"type\":\"LinearAxis\"}],\"plot_height\":200,\"plot_width\":200,\"renderers\":[{\"id\":\"4525a675-c734-4ee6-a0ad-ea25f1c54cb6\",\"type\":\"LinearAxis\"},{\"id\":\"cb9f6758-cae7-44d6-8832-e126a800f06e\",\"type\":\"Grid\"},{\"id\":\"4544c737-979c-4325-9ee3-a49fc68b5f4b\",\"type\":\"LinearAxis\"},{\"id\":\"0227c0d2-75aa-41e7-a365-ddb9a09b3252\",\"type\":\"Grid\"},{\"id\":\"c6b55b51-d1bc-4445-a1a9-b6d935786f8d\",\"type\":\"BoxAnnotation\"},{\"id\":\"aa585567-6385-48d0-b194-335762ddadb3\",\"type\":\"GlyphRenderer\"},{\"id\":\"519297bb-13e0-4cdc-a091-e34213c8d868\",\"type\":\"Label\"}],\"title\":{\"id\":\"b3b12e3d-5bd2-4d46-a566-5a0ae5b69fc6\",\"type\":\"Title\"},\"toolbar\":{\"id\":\"a2a535c1-51d7-48ef-ba0d-e3db74eecf82\",\"type\":\"Toolbar\"},\"x_range\":{\"id\":\"722fcd6e-a735-4c66-a727-4e8abc59da68\",\"type\":\"DataRange1d\"},\"x_scale\":{\"id\":\"9c0c1112-b5a8-4a4d-b0df-e2ad9c6d700f\",\"type\":\"LinearScale\"},\"y_range\":{\"id\":\"1ed12db0-3b8b-4075-9c34-e0bd1f2a5614\",\"type\":\"Range1d\"},\"y_scale\":{\"id\":\"e0533c53-3b3d-4ff5-a44b-f0af0ce74b8e\",\"type\":\"LinearScale\"}},\"id\":\"c231b2d9-9fae-4f47-83da-5956e720c924\",\"subtype\":\"Figure\",\"type\":\"Plot\"},{\"attributes\":{\"active_drag\":\"auto\",\"active_inspect\":\"auto\",\"active_multi\":null,\"active_scroll\":\"auto\",\"active_tap\":\"auto\",\"tools\":[{\"id\":\"20facec1-8604-435a-ab4b-033df0f8366d\",\"type\":\"PanTool\"},{\"id\":\"7b347225-7724-4aba-8270-6a027ddd7dfc\",\"type\":\"WheelZoomTool\"},{\"id\":\"dffeb204-b33b-4c35-811c-d0ba4259e14d\",\"type\":\"BoxZoomTool\"},{\"id\":\"c5283895-ca2f-465a-9ad7-a61c33e46e32\",\"type\":\"SaveTool\"},{\"id\":\"284e04b7-84b7-4649-8bcc-3f87ac240bd6\",\"type\":\"ResetTool\"},{\"id\":\"b0836a6f-a064-4351-9ba2-548022af6b30\",\"type\":\"HelpTool\"}]},\"id\":\"65070546-17c7-420a-b4ba-318ee6111bd9\",\"type\":\"Toolbar\"},{\"attributes\":{\"callback\":null,\"factors\":[\"setosa\",\"versicolor\",\"virginica\"]},\"id\":\"1cb6687f-9be8-4c28-a91c-7651519b0d24\",\"type\":\"FactorRange\"},{\"attributes\":{\"plot\":{\"id\":\"b1b88365-b96a-4d66-bcc0-9c823965166d\",\"subtype\":\"Figure\",\"type\":\"Plot\"},\"ticker\":{\"id\":\"15465c60-31bc-4b8a-a570-006e2160cb84\",\"type\":\"BasicTicker\"}},\"id\":\"a2973f12-35dd-42f9-b74b-db6965ffae22\",\"type\":\"Grid\"},{\"attributes\":{\"formatter\":{\"id\":\"25dfc5cf-34f8-4032-ad87-a4dabe7d1e12\",\"type\":\"BasicTickFormatter\"},\"plot\":{\"id\":\"bba00e5e-e786-4423-87b7-3941807dc1a5\",\"subtype\":\"Figure\",\"type\":\"Plot\"},\"ticker\":{\"id\":\"33aa84ee-4de9-4694-91e7-3f405265d631\",\"type\":\"BasicTicker\"}},\"id\":\"c785a598-c446-47e8-b17b-da066368e443\",\"type\":\"LinearAxis\"},{\"attributes\":{},\"id\":\"1586eec0-e89d-4c0b-bfd6-7eab5c2fd2c6\",\"type\":\"BasicTicker\"},{\"attributes\":{\"active_drag\":\"auto\",\"active_inspect\":\"auto\",\"active_multi\":null,\"active_scroll\":\"auto\",\"active_tap\":\"auto\",\"tools\":[{\"id\":\"3acbb25e-42e9-449f-bd20-92ef1c4e2934\",\"type\":\"PanTool\"},{\"id\":\"9f640165-48e4-4d94-b61e-21582ddc6136\",\"type\":\"WheelZoomTool\"},{\"id\":\"850dca2b-e968-4f61-8537-1920606cc99f\",\"type\":\"BoxZoomTool\"},{\"id\":\"89df8021-535b-4484-9118-a4f048375b27\",\"type\":\"SaveTool\"},{\"id\":\"755ce369-ed49-45e4-81cf-07b9afb49818\",\"type\":\"ResetTool\"},{\"id\":\"ae6b8a9a-2371-492d-a033-68e17598f0e4\",\"type\":\"HelpTool\"}]},\"id\":\"a2a535c1-51d7-48ef-ba0d-e3db74eecf82\",\"type\":\"Toolbar\"},{\"attributes\":{\"formatter\":{\"id\":\"cfe9cc2d-ea73-48e6-bf3e-d19318dc42ca\",\"type\":\"BasicTickFormatter\"},\"plot\":{\"id\":\"c231b2d9-9fae-4f47-83da-5956e720c924\",\"subtype\":\"Figure\",\"type\":\"Plot\"},\"ticker\":{\"id\":\"1586eec0-e89d-4c0b-bfd6-7eab5c2fd2c6\",\"type\":\"BasicTicker\"}},\"id\":\"4544c737-979c-4325-9ee3-a49fc68b5f4b\",\"type\":\"LinearAxis\"},{\"attributes\":{},\"id\":\"9ce7f057-e586-4f0c-9c82-58f2ac6cee3e\",\"type\":\"CategoricalScale\"},{\"attributes\":{\"plot\":{\"id\":\"c231b2d9-9fae-4f47-83da-5956e720c924\",\"subtype\":\"Figure\",\"type\":\"Plot\"},\"render_mode\":\"css\",\"x\":50,\"x_units\":\"screen\",\"y\":50,\"y_units\":\"screen\"},\"id\":\"519297bb-13e0-4cdc-a091-e34213c8d868\",\"type\":\"Label\"},{\"attributes\":{},\"id\":\"e3f6b873-a52d-464b-84e7-66aa2f67bd65\",\"type\":\"LinearScale\"},{\"attributes\":{\"plot\":{\"id\":\"c231b2d9-9fae-4f47-83da-5956e720c924\",\"subtype\":\"Figure\",\"type\":\"Plot\"},\"ticker\":{\"id\":\"0bbc676f-12ab-4b8b-80fa-a4a4ad6783de\",\"type\":\"BasicTicker\"}},\"id\":\"cb9f6758-cae7-44d6-8832-e126a800f06e\",\"type\":\"Grid\"},{\"attributes\":{\"plot\":{\"id\":\"bba00e5e-e786-4423-87b7-3941807dc1a5\",\"subtype\":\"Figure\",\"type\":\"Plot\"},\"ticker\":{\"id\":\"4e0edff1-d24f-40ba-953b-cfc00b77bf6f\",\"type\":\"CategoricalTicker\"}},\"id\":\"4aace711-3e2d-4c1c-ac09-32437fcf9edb\",\"type\":\"Grid\"},{\"attributes\":{\"plot\":{\"id\":\"b1b88365-b96a-4d66-bcc0-9c823965166d\",\"subtype\":\"Figure\",\"type\":\"Plot\"},\"render_mode\":\"css\",\"x\":50,\"x_units\":\"screen\",\"y\":50,\"y_units\":\"screen\"},\"id\":\"b9502e22-0d54-454d-aaf8-9ccd8930f086\",\"type\":\"Label\"},{\"attributes\":{\"axis_label\":\"species\",\"formatter\":{\"id\":\"4386ac94-c6d9-47be-8de2-591e5899b623\",\"type\":\"CategoricalTickFormatter\"},\"plot\":{\"id\":\"bba00e5e-e786-4423-87b7-3941807dc1a5\",\"subtype\":\"Figure\",\"type\":\"Plot\"},\"ticker\":{\"id\":\"4e0edff1-d24f-40ba-953b-cfc00b77bf6f\",\"type\":\"CategoricalTicker\"}},\"id\":\"9a7f5bc8-be81-4d90-8c89-094841461b0b\",\"type\":\"CategoricalAxis\"},{\"attributes\":{},\"id\":\"7d8fd23d-df38-4b4a-bee4-9cb42a008f76\",\"type\":\"WheelZoomTool\"},{\"attributes\":{\"callback\":null},\"id\":\"33c31710-acc5-4496-81d9-b6a3b897f7a5\",\"type\":\"DataRange1d\"},{\"attributes\":{},\"id\":\"4e0edff1-d24f-40ba-953b-cfc00b77bf6f\",\"type\":\"CategoricalTicker\"},{\"attributes\":{\"fill_alpha\":{\"value\":0.1},\"fill_color\":{\"value\":\"#1f77b4\"},\"line_alpha\":{\"value\":0.1},\"line_color\":{\"value\":\"#1f77b4\"},\"top\":{\"field\":\"top\"},\"width\":{\"value\":0.4},\"x\":{\"field\":\"x\"}},\"id\":\"d52d0c4d-faa2-40ef-92e4-cb2a0a55d4e8\",\"type\":\"VBar\"},{\"attributes\":{},\"id\":\"33aa84ee-4de9-4694-91e7-3f405265d631\",\"type\":\"BasicTicker\"},{\"attributes\":{\"dimension\":1,\"plot\":{\"id\":\"bba00e5e-e786-4423-87b7-3941807dc1a5\",\"subtype\":\"Figure\",\"type\":\"Plot\"},\"ticker\":{\"id\":\"33aa84ee-4de9-4694-91e7-3f405265d631\",\"type\":\"BasicTicker\"}},\"id\":\"1d4f59bf-66e2-4bad-9f42-71882a89c52e\",\"type\":\"Grid\"},{\"attributes\":{\"data_source\":{\"id\":\"4f9ed8da-e67d-4791-a2ea-4532dd31fabf\",\"type\":\"ColumnDataSource\"},\"glyph\":{\"id\":\"f18aad9b-ca12-496d-b46c-11cd79ec3958\",\"type\":\"VBar\"},\"hover_glyph\":null,\"muted_glyph\":null,\"nonselection_glyph\":{\"id\":\"d52d0c4d-faa2-40ef-92e4-cb2a0a55d4e8\",\"type\":\"VBar\"},\"selection_glyph\":null,\"view\":{\"id\":\"491b6159-65af-4e8a-8eb9-096e840ac222\",\"type\":\"CDSView\"}},\"id\":\"4ef54319-6fee-4cc2-a3d2-6ab1300c3ad0\",\"type\":\"GlyphRenderer\"},{\"attributes\":{},\"id\":\"f8de482b-1864-4563-b193-5abc5f46dd0a\",\"type\":\"BasicTicker\"},{\"attributes\":{\"below\":[{\"id\":\"9a7f5bc8-be81-4d90-8c89-094841461b0b\",\"type\":\"CategoricalAxis\"}],\"left\":[{\"id\":\"c785a598-c446-47e8-b17b-da066368e443\",\"type\":\"LinearAxis\"}],\"plot_height\":200,\"plot_width\":200,\"renderers\":[{\"id\":\"9a7f5bc8-be81-4d90-8c89-094841461b0b\",\"type\":\"CategoricalAxis\"},{\"id\":\"4aace711-3e2d-4c1c-ac09-32437fcf9edb\",\"type\":\"Grid\"},{\"id\":\"c785a598-c446-47e8-b17b-da066368e443\",\"type\":\"LinearAxis\"},{\"id\":\"1d4f59bf-66e2-4bad-9f42-71882a89c52e\",\"type\":\"Grid\"},{\"id\":\"8e0a2205-738e-43ce-8d23-8244be8e1853\",\"type\":\"BoxAnnotation\"},{\"id\":\"4ef54319-6fee-4cc2-a3d2-6ab1300c3ad0\",\"type\":\"GlyphRenderer\"},{\"id\":\"a9e582e8-b99b-461a-b3c8-091398ac6a55\",\"type\":\"Label\"}],\"title\":{\"id\":\"f3fb9b17-9177-4cfb-95c1-c96dadac3814\",\"type\":\"Title\"},\"toolbar\":{\"id\":\"65070546-17c7-420a-b4ba-318ee6111bd9\",\"type\":\"Toolbar\"},\"x_range\":{\"id\":\"1cb6687f-9be8-4c28-a91c-7651519b0d24\",\"type\":\"FactorRange\"},\"x_scale\":{\"id\":\"9ce7f057-e586-4f0c-9c82-58f2ac6cee3e\",\"type\":\"CategoricalScale\"},\"y_range\":{\"id\":\"e1e054fa-e159-4df2-abfc-ea6a50ff5be0\",\"type\":\"Range1d\"},\"y_scale\":{\"id\":\"e3f6b873-a52d-464b-84e7-66aa2f67bd65\",\"type\":\"LinearScale\"}},\"id\":\"bba00e5e-e786-4423-87b7-3941807dc1a5\",\"subtype\":\"Figure\",\"type\":\"Plot\"},{\"attributes\":{\"fill_color\":{\"value\":\"red\"},\"top\":{\"field\":\"top\"},\"width\":{\"value\":0.4},\"x\":{\"field\":\"x\"}},\"id\":\"f18aad9b-ca12-496d-b46c-11cd79ec3958\",\"type\":\"VBar\"},{\"attributes\":{\"dimension\":1,\"plot\":{\"id\":\"b1b88365-b96a-4d66-bcc0-9c823965166d\",\"subtype\":\"Figure\",\"type\":\"Plot\"},\"ticker\":{\"id\":\"f8de482b-1864-4563-b193-5abc5f46dd0a\",\"type\":\"BasicTicker\"}},\"id\":\"11279da9-4211-4752-bc90-4cf6020c2738\",\"type\":\"Grid\"},{\"attributes\":{},\"id\":\"57803202-ab73-49fc-b605-446f2fa54a96\",\"type\":\"SaveTool\"},{\"attributes\":{\"callback\":null,\"end\":1.05,\"start\":-0.05},\"id\":\"e1e054fa-e159-4df2-abfc-ea6a50ff5be0\",\"type\":\"Range1d\"},{\"attributes\":{},\"id\":\"20facec1-8604-435a-ab4b-033df0f8366d\",\"type\":\"PanTool\"},{\"attributes\":{\"fill_alpha\":{\"value\":0.1},\"fill_color\":{\"value\":\"#1f77b4\"},\"line_alpha\":{\"value\":0.1},\"line_color\":{\"value\":\"#1f77b4\"},\"top\":{\"field\":\"top\"},\"width\":{\"value\":0.4},\"x\":{\"field\":\"x\"}},\"id\":\"a3cc107a-f5bd-493e-b8e3-b1b354a4a25f\",\"type\":\"VBar\"},{\"attributes\":{\"source\":{\"id\":\"4f9ed8da-e67d-4791-a2ea-4532dd31fabf\",\"type\":\"ColumnDataSource\"}},\"id\":\"491b6159-65af-4e8a-8eb9-096e840ac222\",\"type\":\"CDSView\"},{\"attributes\":{},\"id\":\"7b347225-7724-4aba-8270-6a027ddd7dfc\",\"type\":\"WheelZoomTool\"},{\"attributes\":{\"axis_label\":\"sepal_length\",\"formatter\":{\"id\":\"3c313357-3314-46d7-afdd-e55cd3a46add\",\"type\":\"BasicTickFormatter\"},\"plot\":{\"id\":\"b1b88365-b96a-4d66-bcc0-9c823965166d\",\"subtype\":\"Figure\",\"type\":\"Plot\"},\"ticker\":{\"id\":\"15465c60-31bc-4b8a-a570-006e2160cb84\",\"type\":\"BasicTicker\"}},\"id\":\"9d4e693e-f323-4c4e-ab8f-84d1381c495d\",\"type\":\"LinearAxis\"},{\"attributes\":{\"overlay\":{\"id\":\"8e0a2205-738e-43ce-8d23-8244be8e1853\",\"type\":\"BoxAnnotation\"}},\"id\":\"dffeb204-b33b-4c35-811c-d0ba4259e14d\",\"type\":\"BoxZoomTool\"},{\"attributes\":{\"source\":{\"id\":\"95ec3aa6-c7fa-4e80-987f-6acf17e5f323\",\"type\":\"ColumnDataSource\"}},\"id\":\"28ff7414-49f0-4781-8817-3e22eb54f97f\",\"type\":\"CDSView\"},{\"attributes\":{},\"id\":\"c5283895-ca2f-465a-9ad7-a61c33e46e32\",\"type\":\"SaveTool\"},{\"attributes\":{},\"id\":\"428f4991-9daa-4ccd-8a75-48a3a6b47fbc\",\"type\":\"LinearScale\"},{\"attributes\":{},\"id\":\"284e04b7-84b7-4649-8bcc-3f87ac240bd6\",\"type\":\"ResetTool\"},{\"attributes\":{},\"id\":\"b0836a6f-a064-4351-9ba2-548022af6b30\",\"type\":\"HelpTool\"},{\"attributes\":{\"callback\":null,\"data\":{\"top\":{\"__ndarray__\":\"VVVVVVVV1T9VVVVVVVXVP1VVVVVVVdU/\",\"dtype\":\"float64\",\"shape\":[3]},\"x\":[\"setosa\",\"versicolor\",\"virginica\"]},\"selected\":{\"id\":\"1932e22c-d76f-45c7-9ca4-3936d5850cc3\",\"type\":\"Selection\"},\"selection_policy\":{\"id\":\"477f6e5d-1bd9-4fc4-9dd9-2bb440f05fa5\",\"type\":\"UnionRenderers\"}},\"id\":\"4f9ed8da-e67d-4791-a2ea-4532dd31fabf\",\"type\":\"ColumnDataSource\"},{\"attributes\":{\"bottom_units\":\"screen\",\"fill_alpha\":{\"value\":0.5},\"fill_color\":{\"value\":\"lightgrey\"},\"left_units\":\"screen\",\"level\":\"overlay\",\"line_alpha\":{\"value\":1.0},\"line_color\":{\"value\":\"black\"},\"line_dash\":[4,4],\"line_width\":{\"value\":2},\"plot\":null,\"render_mode\":\"css\",\"right_units\":\"screen\",\"top_units\":\"screen\"},\"id\":\"8e0a2205-738e-43ce-8d23-8244be8e1853\",\"type\":\"BoxAnnotation\"},{\"attributes\":{\"fill_color\":{\"value\":\"red\"},\"top\":{\"field\":\"top\"},\"width\":{\"value\":0.4},\"x\":{\"field\":\"x\"}},\"id\":\"1d7a9715-6ac5-4974-af34-145b804358f4\",\"type\":\"VBar\"},{\"attributes\":{\"plot\":{\"id\":\"bba00e5e-e786-4423-87b7-3941807dc1a5\",\"subtype\":\"Figure\",\"type\":\"Plot\"},\"render_mode\":\"css\",\"x\":50,\"x_units\":\"screen\",\"y\":50,\"y_units\":\"screen\"},\"id\":\"a9e582e8-b99b-461a-b3c8-091398ac6a55\",\"type\":\"Label\"},{\"attributes\":{\"axis_label\":\"probability\",\"formatter\":{\"id\":\"98922966-9b62-4110-be23-9da5e7556412\",\"type\":\"BasicTickFormatter\"},\"plot\":{\"id\":\"b1b88365-b96a-4d66-bcc0-9c823965166d\",\"subtype\":\"Figure\",\"type\":\"Plot\"},\"ticker\":{\"id\":\"f8de482b-1864-4563-b193-5abc5f46dd0a\",\"type\":\"BasicTicker\"}},\"id\":\"7cdc24ab-477d-4fc9-8aec-6bb9eed6a415\",\"type\":\"LinearAxis\"},{\"attributes\":{},\"id\":\"15465c60-31bc-4b8a-a570-006e2160cb84\",\"type\":\"BasicTicker\"},{\"attributes\":{\"source\":{\"id\":\"88e1b74d-7848-44fd-83e4-5e6281caca35\",\"type\":\"ColumnDataSource\"}},\"id\":\"36455075-7a8a-4952-b77d-39ee08283fc6\",\"type\":\"CDSView\"},{\"attributes\":{},\"id\":\"3acbb25e-42e9-449f-bd20-92ef1c4e2934\",\"type\":\"PanTool\"},{\"attributes\":{\"fill_alpha\":{\"value\":0.1},\"fill_color\":{\"value\":\"#1f77b4\"},\"line_alpha\":{\"value\":0.1},\"line_color\":{\"value\":\"#1f77b4\"},\"top\":{\"field\":\"top\"},\"width\":{\"value\":0.4},\"x\":{\"field\":\"x\"}},\"id\":\"5cbad7e4-8586-4f34-874a-8f92704b8b2c\",\"type\":\"VBar\"},{\"attributes\":{},\"id\":\"9f640165-48e4-4d94-b61e-21582ddc6136\",\"type\":\"WheelZoomTool\"},{\"attributes\":{\"overlay\":{\"id\":\"c6b55b51-d1bc-4445-a1a9-b6d935786f8d\",\"type\":\"BoxAnnotation\"}},\"id\":\"850dca2b-e968-4f61-8537-1920606cc99f\",\"type\":\"BoxZoomTool\"},{\"attributes\":{},\"id\":\"89df8021-535b-4484-9118-a4f048375b27\",\"type\":\"SaveTool\"},{\"attributes\":{},\"id\":\"755ce369-ed49-45e4-81cf-07b9afb49818\",\"type\":\"ResetTool\"},{\"attributes\":{},\"id\":\"ae6b8a9a-2371-492d-a033-68e17598f0e4\",\"type\":\"HelpTool\"},{\"attributes\":{\"bottom_units\":\"screen\",\"fill_alpha\":{\"value\":0.5},\"fill_color\":{\"value\":\"lightgrey\"},\"left_units\":\"screen\",\"level\":\"overlay\",\"line_alpha\":{\"value\":1.0},\"line_color\":{\"value\":\"black\"},\"line_dash\":[4,4],\"line_width\":{\"value\":2},\"plot\":null,\"render_mode\":\"css\",\"right_units\":\"screen\",\"top_units\":\"screen\"},\"id\":\"c6b55b51-d1bc-4445-a1a9-b6d935786f8d\",\"type\":\"BoxAnnotation\"},{\"attributes\":{\"below\":[{\"id\":\"9d4e693e-f323-4c4e-ab8f-84d1381c495d\",\"type\":\"LinearAxis\"}],\"left\":[{\"id\":\"7cdc24ab-477d-4fc9-8aec-6bb9eed6a415\",\"type\":\"LinearAxis\"}],\"plot_height\":200,\"plot_width\":200,\"renderers\":[{\"id\":\"9d4e693e-f323-4c4e-ab8f-84d1381c495d\",\"type\":\"LinearAxis\"},{\"id\":\"a2973f12-35dd-42f9-b74b-db6965ffae22\",\"type\":\"Grid\"},{\"id\":\"7cdc24ab-477d-4fc9-8aec-6bb9eed6a415\",\"type\":\"LinearAxis\"},{\"id\":\"11279da9-4211-4752-bc90-4cf6020c2738\",\"type\":\"Grid\"},{\"id\":\"cc124e97-ca3b-452c-b99b-494a7b439cba\",\"type\":\"BoxAnnotation\"},{\"id\":\"57448ad9-4823-44ce-ae54-7e0cf060c543\",\"type\":\"GlyphRenderer\"},{\"id\":\"b9502e22-0d54-454d-aaf8-9ccd8930f086\",\"type\":\"Label\"}],\"title\":{\"id\":\"6a0b6aac-4990-447d-9100-efc8ded166e3\",\"type\":\"Title\"},\"toolbar\":{\"id\":\"d3e6c845-d418-47e7-860d-66d04d38d5aa\",\"type\":\"Toolbar\"},\"x_range\":{\"id\":\"33c31710-acc5-4496-81d9-b6a3b897f7a5\",\"type\":\"DataRange1d\"},\"x_scale\":{\"id\":\"368274ad-8f5d-44c7-93ed-13b4e5c1efdd\",\"type\":\"LinearScale\"},\"y_range\":{\"id\":\"b63a6f3c-2e09-4f3b-90e4-16d7d1d387f2\",\"type\":\"Range1d\"},\"y_scale\":{\"id\":\"428f4991-9daa-4ccd-8a75-48a3a6b47fbc\",\"type\":\"LinearScale\"}},\"id\":\"b1b88365-b96a-4d66-bcc0-9c823965166d\",\"subtype\":\"Figure\",\"type\":\"Plot\"},{\"attributes\":{\"plot\":null,\"text\":\"\"},\"id\":\"f3fb9b17-9177-4cfb-95c1-c96dadac3814\",\"type\":\"Title\"},{\"attributes\":{\"callback\":null,\"end\":1.05,\"start\":-0.05},\"id\":\"1ed12db0-3b8b-4075-9c34-e0bd1f2a5614\",\"type\":\"Range1d\"},{\"attributes\":{},\"id\":\"4386ac94-c6d9-47be-8de2-591e5899b623\",\"type\":\"CategoricalTickFormatter\"},{\"attributes\":{\"fill_color\":{\"value\":\"red\"},\"top\":{\"field\":\"top\"},\"width\":{\"value\":0.4},\"x\":{\"field\":\"x\"}},\"id\":\"2d545bed-dc3f-4f94-aba2-9e262d916cf4\",\"type\":\"VBar\"},{\"attributes\":{},\"id\":\"3c313357-3314-46d7-afdd-e55cd3a46add\",\"type\":\"BasicTickFormatter\"},{\"attributes\":{},\"id\":\"c62aa71b-e8d6-42c5-b7b8-74bb1cc161e6\",\"type\":\"PanTool\"},{\"attributes\":{\"plot\":null,\"text\":\"\"},\"id\":\"b3b12e3d-5bd2-4d46-a566-5a0ae5b69fc6\",\"type\":\"Title\"},{\"attributes\":{\"callback\":null},\"id\":\"722fcd6e-a735-4c66-a727-4e8abc59da68\",\"type\":\"DataRange1d\"},{\"attributes\":{},\"id\":\"98922966-9b62-4110-be23-9da5e7556412\",\"type\":\"BasicTickFormatter\"},{\"attributes\":{\"callback\":null,\"data\":{\"top\":{\"__ndarray__\":\"PzTWh8b6oD9eTsHLKXjJP/ahsT401sc/vJyCl1Pwwj9U8HIKXk7BP9aHxvrQWL8/Cl5OwcspuD8vp+DlFLysPzkFL6fg5YQ/1ofG+tBYjz8=\",\"dtype\":\"float64\",\"shape\":[10]},\"x\":{\"__ndarray__\":\"AAAAAAAAIkCF61G4HoUpQIXrUbgehTBASOF6FK5HNEAK16NwPQo4QM3MzMzMzDtAkML1KFyPP0ApXI/C9ahBQArXo3A9ikNA7FG4HoVrRUDNzMzMzExHQA==\",\"dtype\":\"float64\",\"shape\":[11]}},\"selected\":{\"id\":\"62fd94e8-0010-46b6-a3db-9dea3bb3aab0\",\"type\":\"Selection\"},\"selection_policy\":{\"id\":\"a7d8cab5-22df-4088-bcfe-917730bcdb60\",\"type\":\"UnionRenderers\"}},\"id\":\"88e1b74d-7848-44fd-83e4-5e6281caca35\",\"type\":\"ColumnDataSource\"},{\"attributes\":{},\"id\":\"dcd9c1ea-a81a-4557-81fc-7ab0ea1cba1c\",\"type\":\"ResetTool\"},{\"attributes\":{},\"id\":\"25dfc5cf-34f8-4032-ad87-a4dabe7d1e12\",\"type\":\"BasicTickFormatter\"},{\"attributes\":{\"overlay\":{\"id\":\"cc124e97-ca3b-452c-b99b-494a7b439cba\",\"type\":\"BoxAnnotation\"}},\"id\":\"2704097d-1bc2-4a4a-9fd9-e2f59dad540c\",\"type\":\"BoxZoomTool\"},{\"attributes\":{},\"id\":\"a25d32d1-b6a2-4c33-b5f5-5023a494b26d\",\"type\":\"BasicTickFormatter\"},{\"attributes\":{},\"id\":\"cfe9cc2d-ea73-48e6-bf3e-d19318dc42ca\",\"type\":\"BasicTickFormatter\"},{\"attributes\":{},\"id\":\"10406196-ea69-4a4c-8077-5c405f1d27f4\",\"type\":\"UnionRenderers\"},{\"attributes\":{},\"id\":\"1932e22c-d76f-45c7-9ca4-3936d5850cc3\",\"type\":\"Selection\"},{\"attributes\":{},\"id\":\"19c5095f-1e77-400f-806a-7856cc2efb96\",\"type\":\"Selection\"},{\"attributes\":{},\"id\":\"477f6e5d-1bd9-4fc4-9dd9-2bb440f05fa5\",\"type\":\"UnionRenderers\"},{\"attributes\":{},\"id\":\"62fd94e8-0010-46b6-a3db-9dea3bb3aab0\",\"type\":\"Selection\"},{\"attributes\":{},\"id\":\"a7d8cab5-22df-4088-bcfe-917730bcdb60\",\"type\":\"UnionRenderers\"},{\"attributes\":{\"children\":[{\"id\":\"b1b88365-b96a-4d66-bcc0-9c823965166d\",\"subtype\":\"Figure\",\"type\":\"Plot\"},{\"id\":\"bba00e5e-e786-4423-87b7-3941807dc1a5\",\"subtype\":\"Figure\",\"type\":\"Plot\"},{\"id\":\"c231b2d9-9fae-4f47-83da-5956e720c924\",\"subtype\":\"Figure\",\"type\":\"Plot\"}]},\"id\":\"ddaeed22-8934-419e-8c64-b9fa412ba12a\",\"type\":\"Row\"},{\"attributes\":{\"plot\":null,\"text\":\"\"},\"id\":\"6a0b6aac-4990-447d-9100-efc8ded166e3\",\"type\":\"Title\"},{\"attributes\":{\"data_source\":{\"id\":\"95ec3aa6-c7fa-4e80-987f-6acf17e5f323\",\"type\":\"ColumnDataSource\"},\"glyph\":{\"id\":\"2d545bed-dc3f-4f94-aba2-9e262d916cf4\",\"type\":\"VBar\"},\"hover_glyph\":null,\"muted_glyph\":null,\"nonselection_glyph\":{\"id\":\"a3cc107a-f5bd-493e-b8e3-b1b354a4a25f\",\"type\":\"VBar\"},\"selection_glyph\":null,\"view\":{\"id\":\"28ff7414-49f0-4781-8817-3e22eb54f97f\",\"type\":\"CDSView\"}},\"id\":\"57448ad9-4823-44ce-ae54-7e0cf060c543\",\"type\":\"GlyphRenderer\"},{\"attributes\":{\"axis_label\":\"mpg\",\"formatter\":{\"id\":\"a25d32d1-b6a2-4c33-b5f5-5023a494b26d\",\"type\":\"BasicTickFormatter\"},\"plot\":{\"id\":\"c231b2d9-9fae-4f47-83da-5956e720c924\",\"subtype\":\"Figure\",\"type\":\"Plot\"},\"ticker\":{\"id\":\"0bbc676f-12ab-4b8b-80fa-a4a4ad6783de\",\"type\":\"BasicTicker\"}},\"id\":\"4525a675-c734-4ee6-a0ad-ea25f1c54cb6\",\"type\":\"LinearAxis\"},{\"attributes\":{\"active_drag\":\"auto\",\"active_inspect\":\"auto\",\"active_multi\":null,\"active_scroll\":\"auto\",\"active_tap\":\"auto\",\"tools\":[{\"id\":\"c62aa71b-e8d6-42c5-b7b8-74bb1cc161e6\",\"type\":\"PanTool\"},{\"id\":\"7d8fd23d-df38-4b4a-bee4-9cb42a008f76\",\"type\":\"WheelZoomTool\"},{\"id\":\"2704097d-1bc2-4a4a-9fd9-e2f59dad540c\",\"type\":\"BoxZoomTool\"},{\"id\":\"57803202-ab73-49fc-b605-446f2fa54a96\",\"type\":\"SaveTool\"},{\"id\":\"dcd9c1ea-a81a-4557-81fc-7ab0ea1cba1c\",\"type\":\"ResetTool\"},{\"id\":\"5a85ccbc-b013-4c3a-ad51-cf85d147a65e\",\"type\":\"HelpTool\"}]},\"id\":\"d3e6c845-d418-47e7-860d-66d04d38d5aa\",\"type\":\"Toolbar\"}],\"root_ids\":[\"ddaeed22-8934-419e-8c64-b9fa412ba12a\"]},\"title\":\"Bokeh Application\",\"version\":\"0.13.0\"}};\n",
       "  var render_items = [{\"docid\":\"834e296c-ae31-44e3-84d4-cab4ff79e6dd\",\"roots\":{\"ddaeed22-8934-419e-8c64-b9fa412ba12a\":\"9931e804-94fe-46f5-8579-3e19bb69edab\"}}];\n",
       "  root.Bokeh.embed.embed_items_notebook(docs_json, render_items);\n",
       "\n",
       "  }\n",
       "  if (root.Bokeh !== undefined) {\n",
       "    embed_document(root);\n",
       "  } else {\n",
       "    var attempts = 0;\n",
       "    var timer = setInterval(function(root) {\n",
       "      if (root.Bokeh !== undefined) {\n",
       "        embed_document(root);\n",
       "        clearInterval(timer);\n",
       "      }\n",
       "      attempts++;\n",
       "      if (attempts > 100) {\n",
       "        console.log(\"Bokeh: ERROR: Unable to run BokehJS code because BokehJS library is missing\")\n",
       "        clearInterval(timer);\n",
       "      }\n",
       "    }, 10, root)\n",
       "  }\n",
       "})(window);"
      ],
      "application/vnd.bokehjs_exec.v0+json": ""
     },
     "metadata": {
      "application/vnd.bokehjs_exec.v0+json": {
       "id": "ddaeed22-8934-419e-8c64-b9fa412ba12a"
      }
     },
     "output_type": "display_data"
    }
   ],
   "source": [
    "var1 = 'sepal_length'\n",
    "var2 = 'species'\n",
    "var3 = 'mpg'\n",
    "\n",
    "p1 = figure( plot_width=200, plot_height=200 )\n",
    "p1.histogram( flowers, var1 )\n",
    "p1.yaxis.axis_label = 'probability'\n",
    "p1.xaxis.axis_label = var1\n",
    "\n",
    "labels = np.sort(flowers[var2].unique())\n",
    "p2 = figure( plot_width=200, plot_height=200, x_range=labels )\n",
    "p2.histogram( flowers, var2)\n",
    "p2.xaxis.axis_label = var2\n",
    "\n",
    "# labels = np.sort(autompg[var3].unique())\n",
    "p3 = figure( plot_width=200, plot_height=200)\n",
    "p3.histogram( autompg, var3 )\n",
    "p3.xaxis.axis_label = var3\n",
    "\n",
    "show( row( p1, p2, p3 ) )"
   ]
  },
  {
   "cell_type": "markdown",
   "metadata": {},
   "source": [
    "**<font color=\"deeppink\">Test cases</font>**: Give three scenarios that need testing (bullet points, no implementation required).\n",
    "- Test case 1:\n",
    "- Test case 2:\n",
    "- Test case 3:"
   ]
  },
  {
   "cell_type": "markdown",
   "metadata": {},
   "source": [
    "## Exercise 2: Working with SPLOMs"
   ]
  },
  {
   "cell_type": "markdown",
   "metadata": {},
   "source": [
    "The source code for the generalized scatterplot matrix (SPLOM) is stored in file splom.py. \n",
    "\n",
    "Usage:\n",
    "```\n",
    "p = splom( df, cols=['var1', 'var2', 'var3'], splom_width=1000 )\n",
    "show(p)\n",
    "```\n",
    "\n",
    "Accepted parameters:\n",
    "- **source** (req): pandas DataFrame\n",
    "- **splom_width** (opt): total width/height of the plot.\n",
    "- **cols** (opt): Array of column names to be used in the plot.\n",
    "- **x_padding** (opt): additional space for the x-axis labels.\n",
    "- **y_padding** (opt): additional space for the y-axis labels.\n",
    "\n",
    "Hint:\n",
    "- The SPLOM supports some interaction. Select points in the scatterplots and look at the results in the other scatterplots."
   ]
  },
  {
   "cell_type": "code",
   "execution_count": 743,
   "metadata": {},
   "outputs": [],
   "source": [
    "%run SPLOM.py"
   ]
  },
  {
   "cell_type": "markdown",
   "metadata": {},
   "source": [
    "### Exercise 2a): Baseball data"
   ]
  },
  {
   "cell_type": "code",
   "execution_count": 744,
   "metadata": {},
   "outputs": [
    {
     "ename": "FileNotFoundError",
     "evalue": "File b'../Ex2_explAna/baseball_data.csv' does not exist",
     "output_type": "error",
     "traceback": [
      "\u001b[1;31m---------------------------------------------------------------------------\u001b[0m",
      "\u001b[1;31mFileNotFoundError\u001b[0m                         Traceback (most recent call last)",
      "\u001b[1;32m<ipython-input-744-3d7876423c16>\u001b[0m in \u001b[0;36m<module>\u001b[1;34m()\u001b[0m\n\u001b[1;32m----> 1\u001b[1;33m \u001b[0mbaseball\u001b[0m \u001b[1;33m=\u001b[0m \u001b[0mpd\u001b[0m\u001b[1;33m.\u001b[0m\u001b[0mread_csv\u001b[0m\u001b[1;33m(\u001b[0m \u001b[1;34m'../Ex2_explAna/baseball_data.csv'\u001b[0m\u001b[1;33m)\u001b[0m\u001b[1;33m\u001b[0m\u001b[0m\n\u001b[0m",
      "\u001b[1;32m~\\AppData\\Local\\Continuum\\anaconda3\\lib\\site-packages\\pandas\\io\\parsers.py\u001b[0m in \u001b[0;36mparser_f\u001b[1;34m(filepath_or_buffer, sep, delimiter, header, names, index_col, usecols, squeeze, prefix, mangle_dupe_cols, dtype, engine, converters, true_values, false_values, skipinitialspace, skiprows, nrows, na_values, keep_default_na, na_filter, verbose, skip_blank_lines, parse_dates, infer_datetime_format, keep_date_col, date_parser, dayfirst, iterator, chunksize, compression, thousands, decimal, lineterminator, quotechar, quoting, escapechar, comment, encoding, dialect, tupleize_cols, error_bad_lines, warn_bad_lines, skipfooter, doublequote, delim_whitespace, low_memory, memory_map, float_precision)\u001b[0m\n\u001b[0;32m    676\u001b[0m                     skip_blank_lines=skip_blank_lines)\n\u001b[0;32m    677\u001b[0m \u001b[1;33m\u001b[0m\u001b[0m\n\u001b[1;32m--> 678\u001b[1;33m         \u001b[1;32mreturn\u001b[0m \u001b[0m_read\u001b[0m\u001b[1;33m(\u001b[0m\u001b[0mfilepath_or_buffer\u001b[0m\u001b[1;33m,\u001b[0m \u001b[0mkwds\u001b[0m\u001b[1;33m)\u001b[0m\u001b[1;33m\u001b[0m\u001b[0m\n\u001b[0m\u001b[0;32m    679\u001b[0m \u001b[1;33m\u001b[0m\u001b[0m\n\u001b[0;32m    680\u001b[0m     \u001b[0mparser_f\u001b[0m\u001b[1;33m.\u001b[0m\u001b[0m__name__\u001b[0m \u001b[1;33m=\u001b[0m \u001b[0mname\u001b[0m\u001b[1;33m\u001b[0m\u001b[0m\n",
      "\u001b[1;32m~\\AppData\\Local\\Continuum\\anaconda3\\lib\\site-packages\\pandas\\io\\parsers.py\u001b[0m in \u001b[0;36m_read\u001b[1;34m(filepath_or_buffer, kwds)\u001b[0m\n\u001b[0;32m    438\u001b[0m \u001b[1;33m\u001b[0m\u001b[0m\n\u001b[0;32m    439\u001b[0m     \u001b[1;31m# Create the parser.\u001b[0m\u001b[1;33m\u001b[0m\u001b[1;33m\u001b[0m\u001b[0m\n\u001b[1;32m--> 440\u001b[1;33m     \u001b[0mparser\u001b[0m \u001b[1;33m=\u001b[0m \u001b[0mTextFileReader\u001b[0m\u001b[1;33m(\u001b[0m\u001b[0mfilepath_or_buffer\u001b[0m\u001b[1;33m,\u001b[0m \u001b[1;33m**\u001b[0m\u001b[0mkwds\u001b[0m\u001b[1;33m)\u001b[0m\u001b[1;33m\u001b[0m\u001b[0m\n\u001b[0m\u001b[0;32m    441\u001b[0m \u001b[1;33m\u001b[0m\u001b[0m\n\u001b[0;32m    442\u001b[0m     \u001b[1;32mif\u001b[0m \u001b[0mchunksize\u001b[0m \u001b[1;32mor\u001b[0m \u001b[0miterator\u001b[0m\u001b[1;33m:\u001b[0m\u001b[1;33m\u001b[0m\u001b[0m\n",
      "\u001b[1;32m~\\AppData\\Local\\Continuum\\anaconda3\\lib\\site-packages\\pandas\\io\\parsers.py\u001b[0m in \u001b[0;36m__init__\u001b[1;34m(self, f, engine, **kwds)\u001b[0m\n\u001b[0;32m    785\u001b[0m             \u001b[0mself\u001b[0m\u001b[1;33m.\u001b[0m\u001b[0moptions\u001b[0m\u001b[1;33m[\u001b[0m\u001b[1;34m'has_index_names'\u001b[0m\u001b[1;33m]\u001b[0m \u001b[1;33m=\u001b[0m \u001b[0mkwds\u001b[0m\u001b[1;33m[\u001b[0m\u001b[1;34m'has_index_names'\u001b[0m\u001b[1;33m]\u001b[0m\u001b[1;33m\u001b[0m\u001b[0m\n\u001b[0;32m    786\u001b[0m \u001b[1;33m\u001b[0m\u001b[0m\n\u001b[1;32m--> 787\u001b[1;33m         \u001b[0mself\u001b[0m\u001b[1;33m.\u001b[0m\u001b[0m_make_engine\u001b[0m\u001b[1;33m(\u001b[0m\u001b[0mself\u001b[0m\u001b[1;33m.\u001b[0m\u001b[0mengine\u001b[0m\u001b[1;33m)\u001b[0m\u001b[1;33m\u001b[0m\u001b[0m\n\u001b[0m\u001b[0;32m    788\u001b[0m \u001b[1;33m\u001b[0m\u001b[0m\n\u001b[0;32m    789\u001b[0m     \u001b[1;32mdef\u001b[0m \u001b[0mclose\u001b[0m\u001b[1;33m(\u001b[0m\u001b[0mself\u001b[0m\u001b[1;33m)\u001b[0m\u001b[1;33m:\u001b[0m\u001b[1;33m\u001b[0m\u001b[0m\n",
      "\u001b[1;32m~\\AppData\\Local\\Continuum\\anaconda3\\lib\\site-packages\\pandas\\io\\parsers.py\u001b[0m in \u001b[0;36m_make_engine\u001b[1;34m(self, engine)\u001b[0m\n\u001b[0;32m   1012\u001b[0m     \u001b[1;32mdef\u001b[0m \u001b[0m_make_engine\u001b[0m\u001b[1;33m(\u001b[0m\u001b[0mself\u001b[0m\u001b[1;33m,\u001b[0m \u001b[0mengine\u001b[0m\u001b[1;33m=\u001b[0m\u001b[1;34m'c'\u001b[0m\u001b[1;33m)\u001b[0m\u001b[1;33m:\u001b[0m\u001b[1;33m\u001b[0m\u001b[0m\n\u001b[0;32m   1013\u001b[0m         \u001b[1;32mif\u001b[0m \u001b[0mengine\u001b[0m \u001b[1;33m==\u001b[0m \u001b[1;34m'c'\u001b[0m\u001b[1;33m:\u001b[0m\u001b[1;33m\u001b[0m\u001b[0m\n\u001b[1;32m-> 1014\u001b[1;33m             \u001b[0mself\u001b[0m\u001b[1;33m.\u001b[0m\u001b[0m_engine\u001b[0m \u001b[1;33m=\u001b[0m \u001b[0mCParserWrapper\u001b[0m\u001b[1;33m(\u001b[0m\u001b[0mself\u001b[0m\u001b[1;33m.\u001b[0m\u001b[0mf\u001b[0m\u001b[1;33m,\u001b[0m \u001b[1;33m**\u001b[0m\u001b[0mself\u001b[0m\u001b[1;33m.\u001b[0m\u001b[0moptions\u001b[0m\u001b[1;33m)\u001b[0m\u001b[1;33m\u001b[0m\u001b[0m\n\u001b[0m\u001b[0;32m   1015\u001b[0m         \u001b[1;32melse\u001b[0m\u001b[1;33m:\u001b[0m\u001b[1;33m\u001b[0m\u001b[0m\n\u001b[0;32m   1016\u001b[0m             \u001b[1;32mif\u001b[0m \u001b[0mengine\u001b[0m \u001b[1;33m==\u001b[0m \u001b[1;34m'python'\u001b[0m\u001b[1;33m:\u001b[0m\u001b[1;33m\u001b[0m\u001b[0m\n",
      "\u001b[1;32m~\\AppData\\Local\\Continuum\\anaconda3\\lib\\site-packages\\pandas\\io\\parsers.py\u001b[0m in \u001b[0;36m__init__\u001b[1;34m(self, src, **kwds)\u001b[0m\n\u001b[0;32m   1706\u001b[0m         \u001b[0mkwds\u001b[0m\u001b[1;33m[\u001b[0m\u001b[1;34m'usecols'\u001b[0m\u001b[1;33m]\u001b[0m \u001b[1;33m=\u001b[0m \u001b[0mself\u001b[0m\u001b[1;33m.\u001b[0m\u001b[0musecols\u001b[0m\u001b[1;33m\u001b[0m\u001b[0m\n\u001b[0;32m   1707\u001b[0m \u001b[1;33m\u001b[0m\u001b[0m\n\u001b[1;32m-> 1708\u001b[1;33m         \u001b[0mself\u001b[0m\u001b[1;33m.\u001b[0m\u001b[0m_reader\u001b[0m \u001b[1;33m=\u001b[0m \u001b[0mparsers\u001b[0m\u001b[1;33m.\u001b[0m\u001b[0mTextReader\u001b[0m\u001b[1;33m(\u001b[0m\u001b[0msrc\u001b[0m\u001b[1;33m,\u001b[0m \u001b[1;33m**\u001b[0m\u001b[0mkwds\u001b[0m\u001b[1;33m)\u001b[0m\u001b[1;33m\u001b[0m\u001b[0m\n\u001b[0m\u001b[0;32m   1709\u001b[0m \u001b[1;33m\u001b[0m\u001b[0m\n\u001b[0;32m   1710\u001b[0m         \u001b[0mpassed_names\u001b[0m \u001b[1;33m=\u001b[0m \u001b[0mself\u001b[0m\u001b[1;33m.\u001b[0m\u001b[0mnames\u001b[0m \u001b[1;32mis\u001b[0m \u001b[1;32mNone\u001b[0m\u001b[1;33m\u001b[0m\u001b[0m\n",
      "\u001b[1;32mpandas\\_libs\\parsers.pyx\u001b[0m in \u001b[0;36mpandas._libs.parsers.TextReader.__cinit__\u001b[1;34m()\u001b[0m\n",
      "\u001b[1;32mpandas\\_libs\\parsers.pyx\u001b[0m in \u001b[0;36mpandas._libs.parsers.TextReader._setup_parser_source\u001b[1;34m()\u001b[0m\n",
      "\u001b[1;31mFileNotFoundError\u001b[0m: File b'../Ex2_explAna/baseball_data.csv' does not exist"
     ]
    }
   ],
   "source": [
    "baseball = pd.read_csv( '../Ex2_explAna/baseball_data.csv')"
   ]
  },
  {
   "cell_type": "code",
   "execution_count": null,
   "metadata": {},
   "outputs": [],
   "source": [
    "show( splom( df=baseball, cols=['handedness', 'height', 'weight', 'avg', 'HR'],\n",
    "             splom_width=1000, x_padding=40, y_padding=80 ) )"
   ]
  },
  {
   "cell_type": "markdown",
   "metadata": {},
   "source": [
    "### Exercise 2b): Passengers on the Titanic\n",
    "\n",
    "Remarks:\n",
    "- For some passengers age information is missing the `fillna` command replaces those entries with -1. Feal free to make changes to this treating of missing values.\n",
    "- All data is given as quantitative values. To make distinction of categorical data easier, we turn them into strings."
   ]
  },
  {
   "cell_type": "code",
   "execution_count": null,
   "metadata": {},
   "outputs": [],
   "source": [
    "titanic = pd.read_csv( '../Ex2_explAna/titanic3.csv')\n",
    "\n",
    "titanic.pclass = titanic.pclass.astype('str')\n",
    "titanic.survived = titanic.survived.astype('str')\n",
    "\n",
    "titanic = titanic.fillna(-1)\n",
    "\n",
    "p = splom( df=titanic, cols=['pclass', 'survived', 'sex', 'age', 'fare'], splom_width=1000, \n",
    "           x_padding=40, y_padding=80 )\n",
    "show( p )"
   ]
  },
  {
   "cell_type": "markdown",
   "metadata": {},
   "source": [
    "## Exercise 3: \n",
    "\n",
    "### Option 1: Auto MPG"
   ]
  },
  {
   "cell_type": "code",
   "execution_count": null,
   "metadata": {},
   "outputs": [],
   "source": [
    "from bokeh.sampledata.autompg import autompg\n",
    "\n",
    "autompg.cyl = autompg.cyl.astype('str')\n",
    "autompg.origin = autompg.origin.astype('str')\n",
    "\n",
    "show( splom( df=autompg, cols=['mpg', 'cyl', 'displ', 'hp', 'weight', 'accel', 'yr', 'origin'],\n",
    "             splom_width=1000, x_padding=40, y_padding=80 ) )"
   ]
  },
  {
   "cell_type": "markdown",
   "metadata": {},
   "source": [
    "### Option 2: Iris flowers"
   ]
  },
  {
   "cell_type": "code",
   "execution_count": null,
   "metadata": {},
   "outputs": [],
   "source": [
    "from bokeh.sampledata.iris import flowers\n",
    "p = splom( df=flowers, splom_width=1000, x_padding=40, y_padding=80 )\n",
    "show( p )"
   ]
  },
  {
   "cell_type": "code",
   "execution_count": null,
   "metadata": {},
   "outputs": [],
   "source": []
  },
  {
   "cell_type": "code",
   "execution_count": null,
   "metadata": {},
   "outputs": [],
   "source": []
  },
  {
   "cell_type": "code",
   "execution_count": null,
   "metadata": {},
   "outputs": [],
   "source": []
  },
  {
   "cell_type": "code",
   "execution_count": null,
   "metadata": {},
   "outputs": [],
   "source": []
  }
 ],
 "metadata": {
  "kernelspec": {
   "display_name": "Python 3",
   "language": "python",
   "name": "python3"
  },
  "language_info": {
   "codemirror_mode": {
    "name": "ipython",
    "version": 3
   },
   "file_extension": ".py",
   "mimetype": "text/x-python",
   "name": "python",
   "nbconvert_exporter": "python",
   "pygments_lexer": "ipython3",
   "version": "3.7.0"
  }
 },
 "nbformat": 4,
 "nbformat_minor": 2
}
